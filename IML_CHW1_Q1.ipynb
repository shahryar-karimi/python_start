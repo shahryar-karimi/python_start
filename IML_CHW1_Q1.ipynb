{
  "cells": [
    {
      "cell_type": "markdown",
      "metadata": {
        "id": "view-in-github",
        "colab_type": "text"
      },
      "source": [
        "<a href=\"https://colab.research.google.com/github/shahryar-karimi/python_start/blob/main/IML_CHW1_Q1.ipynb\" target=\"_parent\"><img src=\"https://colab.research.google.com/assets/colab-badge.svg\" alt=\"Open In Colab\"/></a>"
      ]
    },
    {
      "cell_type": "markdown",
      "metadata": {
        "id": "c7wdMyNNzf49"
      },
      "source": [
        "<h1 align=\"center\">An Introduction to Machine Learning - 25737</h1>\n",
        "<h4 align=\"center\">Dr. Sajjad Amini</h4>\n",
        "<h4 align=\"center\">Sharif University of Technology, Spring 2023</h4>\n",
        "\n",
        "# Problem Set 01\n",
        "\n",
        "Welcome to your first assignment. This exercise gives you a brief introduction to Python. \n",
        "\n",
        "\n"
      ]
    },
    {
      "cell_type": "markdown",
      "source": [
        "STUDENT NAME: shahryar karimi\n",
        "\n",
        "STUDENT ID: 98100237"
      ],
      "metadata": {
        "id": "Q-qsTRYU5ay5"
      }
    },
    {
      "cell_type": "markdown",
      "metadata": {
        "id": "lyOsKSguzf5A"
      },
      "source": [
        "## About iPython Notebooks ##\n",
        "\n",
        "iPython Notebooks are interactive coding environments embedded in a webpage. You will be using iPython notebooks in this class. You only need to write code between the ### START CODE HERE ### and ### END CODE HERE ### comments. After writing your code, you can run the cell by either pressing \"SHIFT\"+\"ENTER\" or by clicking on \"Run Cell\" (denoted by a play symbol) in the upper bar of the notebook. \n",
        "\n",
        "**Exercise**: Set test to `\"Hello World\"` in the cell below to print \"Hello World\" and run the two cells below."
      ]
    },
    {
      "cell_type": "code",
      "execution_count": null,
      "metadata": {
        "id": "cVMoOWUlzf5A",
        "colab": {
          "base_uri": "https://localhost:8080/"
        },
        "outputId": "a7c9b13f-c465-4825-cfb5-748b894b8043"
      },
      "outputs": [
        {
          "output_type": "stream",
          "name": "stdout",
          "text": [
            "Hello World\n"
          ]
        }
      ],
      "source": [
        "### START CODE HERE ###\n",
        "test = \"Hello World\"\n",
        "print(test)\n",
        "### END CODE HERE ###"
      ]
    },
    {
      "cell_type": "markdown",
      "metadata": {
        "id": "mJZfkY87zf5B"
      },
      "source": [
        "<font color='blue'>\n",
        "**What you need to remember**:\n",
        "- Run your cells using SHIFT+ENTER (or \"Run cell\")\n",
        "- Write code in the designated areas using Python 3 only\n",
        "- Do not modify the code outside of the designated areas"
      ]
    },
    {
      "cell_type": "markdown",
      "metadata": {
        "id": "ZdmzMwNpzf5B"
      },
      "source": [
        "# 1.\n",
        ">What are the lengths of the following lists and strings below? Fill in the variable `lengths` with your predictions. (Try to make a prediction for each list *without* just calling `len()` on it.)"
      ]
    },
    {
      "cell_type": "code",
      "execution_count": null,
      "metadata": {
        "id": "Yh3d2hZ4zf5C",
        "colab": {
          "base_uri": "https://localhost:8080/"
        },
        "outputId": "9caed094-58f0-43ad-abdd-a71eb687f5d0"
      },
      "outputs": [
        {
          "output_type": "stream",
          "name": "stdout",
          "text": [
            "[3, 2, 0, 2, 7, 0, 3, 1]\n"
          ]
        }
      ],
      "source": [
        "a = [1, 2, 3]\n",
        "b = [1, [2, 3]]\n",
        "c = []\n",
        "d = [1, 2, 3][1:]\n",
        "e = 'it\\'s ok'\n",
        "f = \"\"\n",
        "g = \"\"\"hey\"\"\"\n",
        "h = '\\n'\n",
        "\n",
        "# Put your predictions in the list below. Lengths should contain 8 numbers, the\n",
        "# first being the length of a, the second being the length of b and so on.\n",
        "### START CODE HERE ###\n",
        "la = len(a)\n",
        "lb = len(b)\n",
        "lc = len(c)\n",
        "ld = len(d)\n",
        "le = len(e)\n",
        "lf = len(f)\n",
        "lg = len(g)\n",
        "lh = len(h)\n",
        "lengths = [la, lb, lc, ld, le, lf, lg, lh]\n",
        "print(lengths)\n",
        "### END CODE HERE ###"
      ]
    },
    {
      "cell_type": "markdown",
      "metadata": {
        "id": "dMxFzKopzf5C"
      },
      "source": [
        "# 2. \n",
        ">Swap the values to which a and b refer."
      ]
    },
    {
      "cell_type": "code",
      "execution_count": null,
      "metadata": {
        "id": "HXlpbPVYzf5C",
        "colab": {
          "base_uri": "https://localhost:8080/"
        },
        "outputId": "868304ed-c705-477c-dbc5-f8e125a1e5fc"
      },
      "outputs": [
        {
          "output_type": "stream",
          "name": "stdout",
          "text": [
            "[3, 2, 1]\n",
            "[1, 2, 3]\n"
          ]
        }
      ],
      "source": [
        "a = [1, 2, 3]\n",
        "b = [3, 2, 1]\n",
        "\n",
        "### START CODE HERE ###\n",
        "c = a\n",
        "a = b\n",
        "b = c\n",
        "print(a)\n",
        "print(b)\n",
        "### END CODE HERE ###"
      ]
    },
    {
      "cell_type": "markdown",
      "metadata": {
        "id": "igr3m4pXzf5C"
      },
      "source": [
        "# 3. \n",
        ">Which of the two variables below has the smallest absolute value? Use Python's built-in functions."
      ]
    },
    {
      "cell_type": "code",
      "execution_count": null,
      "metadata": {
        "id": "tAy0qBDezf5C",
        "colab": {
          "base_uri": "https://localhost:8080/"
        },
        "outputId": "d695ce4d-8c3c-4294-800b-f75dd7776e1f"
      },
      "outputs": [
        {
          "output_type": "stream",
          "name": "stdout",
          "text": [
            "5\n"
          ]
        }
      ],
      "source": [
        "x = -10\n",
        "y = 5\n",
        "\n",
        "### START CODE HERE ###\n",
        "x_abs = abs(x)\n",
        "y_abs = abs(y)\n",
        "if x_abs > y_abs:\n",
        "  smallest_abs = y\n",
        "else:\n",
        "  smallest_abs = x\n",
        "print(smallest_abs)\n",
        "### END CODE HERE ###"
      ]
    },
    {
      "cell_type": "markdown",
      "metadata": {
        "id": "-55kY-Cqzf5C"
      },
      "source": [
        "# 4. \n",
        "\n",
        "> A simple exercise! Run the cell below and try to explain the results for yourself:\n",
        "\n"
      ]
    },
    {
      "cell_type": "code",
      "execution_count": null,
      "metadata": {
        "id": "_dpAa1Q4zf5D",
        "colab": {
          "base_uri": "https://localhost:8080/"
        },
        "outputId": "adf5ff13-08b8-455e-fc94-dd0bca8dee8a"
      },
      "outputs": [
        {
          "output_type": "stream",
          "name": "stdout",
          "text": [
            "1.0\n",
            "0.0\n",
            "1.0\n"
          ]
        }
      ],
      "source": [
        "print( 1.0 + 1.0 - 1.0 )\n",
        "print( 1.0 + 1.0e20 - 1.0e20 )\n",
        "print( 1.0e20 - 1.0e20 + 1 )"
      ]
    },
    {
      "cell_type": "markdown",
      "source": [
        "به این دلیل است که در خط اول مرتبه ی محاسبه ۱ است و خطایی ایجاد نمی‌کند پس مقدار درست را خروجی می‌دهد. برای خط دوم چون ابتدا جمع سمت چپ انجام می‌شود، پس مرتبه ی محاسبه بالا می‌رود و این مقدار وقتی با خودش منها می‌شود، به دلیل مرتبه ی بالای محاسبه و خطای محاسبه در خروجی ما صفر می‌بینیم. برای خط سوم چون ابتدا تفریق انجام می‌شود مرتبه ی محاسبه صفر می‌شود و سپس با ۱ جمع می‌شود که نتیجه ی درست را خروجی می‌دهد"
      ],
      "metadata": {
        "id": "zAIlFZg-Gg7z"
      }
    },
    {
      "cell_type": "markdown",
      "metadata": {
        "id": "3G2-lTfDzf5D"
      },
      "source": [
        "# 5.\n",
        ">Many programming languages have [`sign`](https://en.wikipedia.org/wiki/Sign_function) available as a built-in function. Python doesn't, but we can define our own! \n",
        "In the cell below, define a function called `sign` which takes a numerical argument and returns -1 if it's negative, 1 if it's positive, and 0 if it's 0."
      ]
    },
    {
      "cell_type": "code",
      "execution_count": null,
      "metadata": {
        "id": "ASICcFwYzf5D",
        "colab": {
          "base_uri": "https://localhost:8080/"
        },
        "outputId": "6e23fd54-4873-4267-9865-24e229ede89d"
      },
      "outputs": [
        {
          "output_type": "stream",
          "name": "stdout",
          "text": [
            "1\n",
            "-1\n",
            "0\n"
          ]
        }
      ],
      "source": [
        "def sign(x):\n",
        "    # (\"pass\" is a keyword that does literally nothing. We used it as a placeholder\n",
        "    # because after we begin a code block, Python requires at least one line of code)\n",
        "    ### START CODE HERE ###\n",
        "    if x > 0:\n",
        "      return 1\n",
        "    elif x < 0:\n",
        "      return -1\n",
        "    return 0    \n",
        "    ### END CODE HERE ###\n",
        "\n",
        "# You can try different examples to check your function:\n",
        "print(sign(2))\n",
        "print(sign(-2))\n",
        "print(sign(0))"
      ]
    },
    {
      "cell_type": "markdown",
      "metadata": {
        "id": "6on-t1f0zf5D"
      },
      "source": [
        "# 6. \n",
        ">Complete the body of the following function according to its docstring.\n",
        "\n",
        "HINT: Python has a built-in function `round`."
      ]
    },
    {
      "cell_type": "code",
      "execution_count": null,
      "metadata": {
        "id": "VINxi-ngzf5D",
        "colab": {
          "base_uri": "https://localhost:8080/"
        },
        "outputId": "aa01570d-36e7-49e9-e346-0f9185889ff4"
      },
      "outputs": [
        {
          "output_type": "execute_result",
          "data": {
            "text/plain": [
              "9.99"
            ]
          },
          "metadata": {},
          "execution_count": 2
        }
      ],
      "source": [
        "def round_to_two_places(num):\n",
        "    \"\"\"Return the given number rounded to two decimal places. \n",
        "    \n",
        "    >>> round_to_two_places(3.14159)\n",
        "    3.14\n",
        "    \"\"\"\n",
        "    ### START CODE HERE ###\n",
        "    return round(num, 2)\n",
        "    ### END CODE HERE ###\n",
        "    pass\n",
        "\n",
        "round_to_two_places(9.9999)"
      ]
    },
    {
      "cell_type": "markdown",
      "metadata": {
        "id": "5FtTkgU6zf5D"
      },
      "source": [
        "The help for `round` says that `ndigits` (the second argument) may be negative.\n",
        "What do you think will happen when it is? Try an example in the cell below."
      ]
    },
    {
      "cell_type": "code",
      "execution_count": null,
      "metadata": {
        "id": "G6_vfswBzf5D",
        "colab": {
          "base_uri": "https://localhost:8080/"
        },
        "outputId": "5782df72-a829-4454-a0e1-ed35e224a415"
      },
      "outputs": [
        {
          "output_type": "execute_result",
          "data": {
            "text/plain": [
              "200.0"
            ]
          },
          "metadata": {},
          "execution_count": 3
        }
      ],
      "source": [
        "round(232.4243, -2)"
      ]
    },
    {
      "cell_type": "markdown",
      "metadata": {
        "id": "i3sKJk1jzf5D"
      },
      "source": [
        "# 7.\n",
        "> Write a function that evaluates the polynomial $${3x^2 − x + 2}$$"
      ]
    },
    {
      "cell_type": "code",
      "execution_count": null,
      "metadata": {
        "id": "cKy7RJVTzf5E",
        "colab": {
          "base_uri": "https://localhost:8080/"
        },
        "outputId": "a0eeee15-3e20-4f69-996c-847e47a186be"
      },
      "outputs": [
        {
          "output_type": "stream",
          "name": "stdout",
          "text": [
            "4\n"
          ]
        }
      ],
      "source": [
        "def polynomial(x):\n",
        "    ### START CODE HERE ###\n",
        "    return x * (3*x - 1) + 2\n",
        "    ### END CODE HERE ###\n",
        "print(polynomial(1))"
      ]
    },
    {
      "cell_type": "markdown",
      "metadata": {
        "id": "HI8Nje1Jzf5E"
      },
      "source": [
        "# 8.\n",
        ">Complete the function below according to its docstring."
      ]
    },
    {
      "cell_type": "code",
      "execution_count": null,
      "metadata": {
        "id": "4pDj20lbzf5E",
        "colab": {
          "base_uri": "https://localhost:8080/"
        },
        "outputId": "c5eefb7b-7a5a-4246-cfa6-0a7fc8d54abc"
      },
      "outputs": [
        {
          "output_type": "stream",
          "name": "stdout",
          "text": [
            "b\n",
            "b\n",
            "None\n"
          ]
        }
      ],
      "source": [
        "def select_second(L):\n",
        "    \"\"\"Return the second element of the given list. If the list has no second\n",
        "    element, return None.\n",
        "    \"\"\"\n",
        "    ### START CODE HERE ###\n",
        "    if len(L) < 2:\n",
        "      return None\n",
        "    return  L[1]\n",
        "    ### END CODE HERE ###\n",
        "print(select_second([\"a\", \"b\", \"c\"]))\n",
        "print(select_second([\"a\", \"b\"]))\n",
        "print(select_second([\"a\"]))"
      ]
    },
    {
      "cell_type": "markdown",
      "metadata": {
        "id": "uHty8trFzf5E"
      },
      "source": [
        "# 9.\n",
        ">We're using lists to record people who attended a class and what order they arrived in. For example, the following list represents a class with 7 students, in which 'Amirhossein' showed up first and 'Pedram' was the last to arrive:\n",
        "    \n",
        "> class_attendees = ['Amirhossein', 'Hadi', 'Fatemeh', 'Mahtab', 'Ali', 'Nasim', 'Pedram']\n",
        "\n",
        "> A student is considered 'fashionably late' if they arrived after at least half of the class's students. However, they must not be the very last student (that's taking it too far). In the above example, Ali and Nasim are the only students who were fashionably late.\n",
        "Complete the function below which takes a list of class attendees as well as a person, and tells us whether that person is fashionably late."
      ]
    },
    {
      "cell_type": "code",
      "execution_count": null,
      "metadata": {
        "id": "8xOjqaTvzf5E",
        "colab": {
          "base_uri": "https://localhost:8080/"
        },
        "outputId": "998f1e7c-6207-4f69-c35e-c83a20107b6b"
      },
      "outputs": [
        {
          "output_type": "stream",
          "name": "stdout",
          "text": [
            "False\n",
            "False\n",
            "False\n",
            "False\n",
            "True\n",
            "True\n",
            "False\n"
          ]
        }
      ],
      "source": [
        "def fashionably_late(arrivals, name):\n",
        "    \"\"\"Given an ordered list of arrivals to the class and a name, return whether the student with that\n",
        "    name was fashionably late.\n",
        "    \"\"\"\n",
        "    ### START CODE HERE ###\n",
        "    n = len(arrivals)\n",
        "    return arrivals[((n + 1) //2): n - 1].count(name) > 0\n",
        "    ### END CODE HERE ###\n",
        "arrivals = ['Amirhossein', 'Hadi', 'Fatemeh', 'Mahtab', 'Ali', 'Nasim', 'Pedram']\n",
        "print(fashionably_late(arrivals, 'Amirhossein'))\n",
        "print(fashionably_late(arrivals, 'Hadi'))\n",
        "print(fashionably_late(arrivals, 'Fatemeh'))\n",
        "print(fashionably_late(arrivals, 'Mahtab'))\n",
        "print(fashionably_late(arrivals, 'Ali'))\n",
        "print(fashionably_late(arrivals, 'Nasim'))\n",
        "print(fashionably_late(arrivals, 'Pedram'))"
      ]
    },
    {
      "cell_type": "markdown",
      "metadata": {
        "id": "xYVP-8eWzf5E"
      },
      "source": [
        "# 10.\n",
        ">Complete the function below according to its docstring."
      ]
    },
    {
      "cell_type": "code",
      "execution_count": null,
      "metadata": {
        "id": "HQ-mpu1zzf5E",
        "colab": {
          "base_uri": "https://localhost:8080/"
        },
        "outputId": "2970050d-e7e7-4002-cc4f-ee9dac038d3d"
      },
      "outputs": [
        {
          "output_type": "stream",
          "name": "stdout",
          "text": [
            "True\n",
            "False\n"
          ]
        }
      ],
      "source": [
        "def has_lucky_number(nums):\n",
        "    \"\"\"Return whether the given list of numbers is lucky. A lucky list contains\n",
        "    at least one number divisible by 7.\n",
        "    \"\"\"\n",
        "    ### START CODE HERE ###\n",
        "    for num in nums:\n",
        "      if num % 7 == 0:\n",
        "        return True\n",
        "    return False    \n",
        "    ### END CODE HERE ###\n",
        "print(has_lucky_number([1, 2, 3, 4, 5, 6, 8, 9, 10, 11, 12 ,13, 14]))\n",
        "print(has_lucky_number([1, 2, 3, 4, 5, 6]))"
      ]
    },
    {
      "cell_type": "markdown",
      "metadata": {
        "id": "tp4MIqyozf5E"
      },
      "source": [
        "# 11.\n",
        "\n",
        ">Complete the body of the function below according to its docstring."
      ]
    },
    {
      "cell_type": "code",
      "execution_count": null,
      "metadata": {
        "id": "28PSD7eKzf5F",
        "colab": {
          "base_uri": "https://localhost:8080/"
        },
        "outputId": "aeb7c82f-4b29-4419-b515-e58d7e2646c6"
      },
      "outputs": [
        {
          "output_type": "stream",
          "name": "stdout",
          "text": [
            "False\n",
            "True\n"
          ]
        }
      ],
      "source": [
        "def menu_is_boring(meals):\n",
        "    \"\"\"Given a list of meals served over some period of time, return True if the\n",
        "    same meal has ever been served two days in a row, and False otherwise.\n",
        "    \"\"\"\n",
        "    ### START CODE HERE ###\n",
        "    n = len(meals)\n",
        "    for i in range(n):\n",
        "      if meals[i + 1:].count(meals[i]) > 0:\n",
        "        return True\n",
        "    return False\n",
        "    ### END CODE HERE ###\n",
        "myList1 = ['apple', 'banana', 'kabab', 'salad', 'burger', 'fries']\n",
        "myList2 = ['apple', 'banana', 'kabab', 'salad', 'burger', 'fries', 'kabab']\n",
        "print(menu_is_boring(myList1))\n",
        "print(menu_is_boring(myList2))"
      ]
    },
    {
      "cell_type": "markdown",
      "metadata": {
        "id": "WxphNvtzzf5F"
      },
      "source": [
        "# 12.\n",
        "\n",
        "> There is a saying that \"Data scientists spend 80% of their time cleaning data, and 20% of their time complaining about cleaning data.\" Let's see if you can write a function to help clean US zip code data. Given a string, it should return whether or not that string represents a valid zip code. For our purposes, a valid zip code is any string consisting of exactly 5 digits.\n",
        "\n",
        "HINT: `str` has a method that will be useful here. Use `help(str)` to review a list of string methods."
      ]
    },
    {
      "cell_type": "code",
      "execution_count": null,
      "metadata": {
        "id": "BPjuuKfXzf5F",
        "colab": {
          "base_uri": "https://localhost:8080/"
        },
        "outputId": "bdc200df-d850-44d9-a380-d639c0b60f12"
      },
      "outputs": [
        {
          "output_type": "stream",
          "name": "stdout",
          "text": [
            "False\n",
            "True\n",
            "False\n"
          ]
        }
      ],
      "source": [
        "def is_valid_zip(zip_code):\n",
        "    \"\"\"Returns whether the input string is a valid (5 digit) zip code\n",
        "    \"\"\"\n",
        "    ### START CODE HERE ###\n",
        "    if zip_code.isdigit() and len(zip_code) == 5:\n",
        "      return True\n",
        "    return False\n",
        "    ### END CODE HERE ###\n",
        "print(is_valid_zip('abcde'))    \n",
        "print(is_valid_zip('14235'))\n",
        "print(is_valid_zip('142356'))"
      ]
    },
    {
      "cell_type": "markdown",
      "metadata": {
        "id": "CAB_4WFczf5F"
      },
      "source": [
        "# 13.\n",
        ">Write a function my_max(x,y) that returns the maximum of x and y. \n",
        "\n",
        ">Do not use the max function, but use if instead in following two ways:\n",
        "\n",
        ">> (a) Use both if and else.\n",
        "\n",
        ">> (b) Use if but not else (nor elif)."
      ]
    },
    {
      "cell_type": "code",
      "execution_count": null,
      "metadata": {
        "id": "EdxovDduzf5F",
        "colab": {
          "base_uri": "https://localhost:8080/"
        },
        "outputId": "c3a3f4f0-05e1-43c3-c6c4-6a43a8e16619"
      },
      "outputs": [
        {
          "output_type": "stream",
          "name": "stdout",
          "text": [
            "11\n"
          ]
        }
      ],
      "source": [
        "def my_max_a(x, y):\n",
        "    ### START CODE HERE ###\n",
        "    if x < y:\n",
        "      return y\n",
        "    else:\n",
        "      return x \n",
        "    ### END CODE HERE ###\n",
        "print(my_max_a(10,11))"
      ]
    },
    {
      "cell_type": "code",
      "execution_count": null,
      "metadata": {
        "id": "QbC8rsevzf5F",
        "colab": {
          "base_uri": "https://localhost:8080/"
        },
        "outputId": "7c7dc3b1-89e4-43b6-e7be-d300b57c4360"
      },
      "outputs": [
        {
          "output_type": "stream",
          "name": "stdout",
          "text": [
            "11\n"
          ]
        }
      ],
      "source": [
        "def my_max_b(x, y):\n",
        "    ### START CODE HERE ###\n",
        "    result = x\n",
        "    if y > x:\n",
        "      result = y\n",
        "    return result  \n",
        "    ### END CODE HERE ###\n",
        "    pass\n",
        "print(my_max_b(10,11))"
      ]
    },
    {
      "cell_type": "markdown",
      "metadata": {
        "id": "SPGRkQKczf5F"
      },
      "source": [
        "# 14.  \n",
        "\n",
        "> Let i,j = 1,...,n\n",
        "\n",
        ">>(a) Generate a list with elements [i,j].\n",
        "\n",
        ">>(b) Generate a list with elements [i,j] with i < j\n",
        "\n",
        ">>(c) Generate a list with elements i + j with both i and j prime and i > j\n",
        "\n",
        "Use List comprehensions"
      ]
    },
    {
      "cell_type": "code",
      "execution_count": null,
      "metadata": {
        "id": "6kEF2l-azf5F",
        "colab": {
          "base_uri": "https://localhost:8080/"
        },
        "outputId": "e80fc7b1-a7da-45ce-ddad-11d20241879b"
      },
      "outputs": [
        {
          "output_type": "stream",
          "name": "stdout",
          "text": [
            "[[1, 1], [1, 2], [1, 3], [2, 1], [2, 2], [2, 3], [3, 1], [3, 2], [3, 3]]\n",
            "[[1, 2], [1, 3], [2, 3]]\n",
            "[5, 7, 8, 9, 10, 12]\n"
          ]
        }
      ],
      "source": [
        "import math\n",
        "# a)\n",
        "### START CODE HERE ###\n",
        "def list_a(n):\n",
        "  result = list()\n",
        "  for i in range(1, n + 1):\n",
        "    for j in range(1, n + 1):\n",
        "      result.append([i, j])\n",
        "  return result    \n",
        "print(list_a(3))\n",
        "### END CODE HERE ###\n",
        "\n",
        "\n",
        "# b)\n",
        "### START CODE HERE ###\n",
        "def list_b(n):\n",
        "  result = list()\n",
        "  for i in range(1, n + 1):\n",
        "    for j in range(i + 1, n + 1):\n",
        "      result.append([i, j])\n",
        "  return result    \n",
        "print(list_b(3))    \n",
        "### END CODE HERE ###\n",
        "\n",
        "\n",
        "# c)\n",
        "### START CODE HERE ###\n",
        "def is_prime(p):\n",
        "  if p == 1: \n",
        "    return False\n",
        "  if p == 2:\n",
        "    return True\n",
        "  if p % 2 == 0:\n",
        "    return False  \n",
        "  for i in range(3, int(math.sqrt(p)) + 1, 2):\n",
        "    if p % i == 0:\n",
        "      return False\n",
        "  return True\n",
        "\n",
        "def list_c(n):\n",
        "  result = list()\n",
        "  for i in range(1, n + 1):\n",
        "    for j in range(1, i):\n",
        "      if is_prime(i) and is_prime(j):\n",
        "        result.append(i + j)\n",
        "  return result\n",
        "print(list_c(10))      \n",
        "### END CODE HERE ###"
      ]
    },
    {
      "cell_type": "markdown",
      "metadata": {
        "id": "1Nt-b71ozf5F"
      },
      "source": [
        "# 15. \n",
        "\n",
        ">Complete the body of the function below according to its docstring."
      ]
    },
    {
      "cell_type": "code",
      "execution_count": null,
      "metadata": {
        "id": "h7dJzbXgzf5F",
        "colab": {
          "base_uri": "https://localhost:8080/"
        },
        "outputId": "99110bee-f7a8-407d-ce67-fe6f52b041ec"
      },
      "outputs": [
        {
          "output_type": "stream",
          "name": "stdout",
          "text": [
            "[2002, 2009, 2016, 2023, 2037, 2044, 2051, 2058, 2072, 2079, 2086, 2093, 2107, 2114, 2121, 2128, 2142, 2149, 2156, 2163, 2177, 2184, 2191, 2198, 2212, 2219, 2226, 2233, 2247, 2254, 2261, 2268, 2282, 2289, 2296, 2303, 2317, 2324, 2331, 2338, 2352, 2359, 2366, 2373, 2387, 2394, 2401, 2408, 2422, 2429, 2436, 2443, 2457, 2464, 2471, 2478, 2492, 2499, 2506, 2513, 2527, 2534, 2541, 2548, 2562, 2569, 2576, 2583, 2597, 2604, 2611, 2618, 2632, 2639, 2646, 2653, 2667, 2674, 2681, 2688, 2702, 2709, 2716, 2723, 2737, 2744, 2751, 2758, 2772, 2779, 2786, 2793, 2807, 2814, 2821, 2828, 2842, 2849, 2856, 2863, 2877, 2884, 2891, 2898, 2912, 2919, 2926, 2933, 2947, 2954, 2961, 2968, 2982, 2989, 2996, 3003, 3017, 3024, 3031, 3038, 3052, 3059, 3066, 3073, 3087, 3094, 3101, 3108, 3122, 3129, 3136, 3143, 3157, 3164, 3171, 3178, 3192, 3199]\n"
          ]
        }
      ],
      "source": [
        "def my_func():\n",
        "    \"\"\"Write a function which will return a list contains all such numbers which are divisible by 7 but are not a multiple\n",
        "    of 5, between 2000 and 3200 (both included).\n",
        "    \"\"\"\n",
        "    ### START CODE HERE ###\n",
        "    result = list()\n",
        "    for i in range(2002, 3200, 7):\n",
        "      if i % 5 != 0:\n",
        "        result.append(i)\n",
        "    return result    \n",
        "    ### END CODE HERE ###\n",
        "print(my_func())    "
      ]
    },
    {
      "cell_type": "markdown",
      "metadata": {
        "id": "4hCkNduIzf5F"
      },
      "source": [
        "# 16.\n",
        "\n",
        ">Write a program that accepts a sentence and calculate the number of letters and digits.\n",
        "Suppose the following input is supplied to the program:\n",
        "\n",
        "        hello world! 123\n",
        ">Then, the output should be:\n",
        "\n",
        ">>LETTERS 10\n",
        "\n",
        ">>DIGITS 3"
      ]
    },
    {
      "cell_type": "code",
      "execution_count": null,
      "metadata": {
        "id": "zCF3Jcxrzf5G",
        "colab": {
          "base_uri": "https://localhost:8080/"
        },
        "outputId": "f258ef43-57d9-47cf-97fb-f03195ad2c18"
      },
      "outputs": [
        {
          "output_type": "stream",
          "name": "stdout",
          "text": [
            "Enter a sentence:   hello world! 123\n",
            "LETTERS 10\n",
            "DIGITS 3\n"
          ]
        }
      ],
      "source": [
        "### START CODE HERE ###\n",
        "\n",
        "string = input(\"Enter a sentence: \")\n",
        "letters = 0\n",
        "digits = 0\n",
        "for c in string:\n",
        "  if c.isalpha():\n",
        "    letters += 1\n",
        "  elif c.isdigit():\n",
        "    digits += 1\n",
        "print(\"LETTERS \" + str(letters))\n",
        "print(\"DIGITS \" + str(digits))\n",
        "### END CODE HERE ###"
      ]
    },
    {
      "cell_type": "markdown",
      "metadata": {
        "id": "SrFe49A3zf5G"
      },
      "source": [
        "# 17.\n",
        "Write a function to sort a list of tuples (name, age, height) by ascending order\n",
        "where name is string, age and height are numbers. The sort\n",
        "criteria is:\n",
        "\n",
        "* 1: Sort based on name;\n",
        "* 2: Then sort based on age;\n",
        "* 3: Then sort by score.\n",
        "\n",
        "The priority is that name > age > score.\n",
        "If the following list is given as input to the function:\n",
        ">[('Taha',19,80), ('Farhad',20,90), ('Farrokh',17,91), ('Farrokh',17,93), ('Fatemeh',21,85)]\n",
        "\n",
        "Then, the output of the program should be:\n",
        ">[('Farhad', '20', '90'), ('Farrokh', '17', '91'), ('Farrokh', '17', '93'), ('Fatemeh', '21', '85'), ('Taha', '19', '80')]"
      ]
    },
    {
      "cell_type": "code",
      "execution_count": null,
      "metadata": {
        "id": "ovUPqq9Tzf5G",
        "colab": {
          "base_uri": "https://localhost:8080/"
        },
        "outputId": "4295a3bf-bfe4-4a14-81b6-4da02433f446"
      },
      "outputs": [
        {
          "output_type": "stream",
          "name": "stdout",
          "text": [
            "[('Taha', 19, 80), ('Fatemeh', 21, 85), ('Farhad', 20, 90), ('Farrokh', 17, 91), ('Farrokh', 17, 93)]\n"
          ]
        }
      ],
      "source": [
        "def sortTuple(inputList):\n",
        "    ### START CODE HERE ###\n",
        "    inputList.sort(key = by_name)\n",
        "    inputList.sort(key = by_age)\n",
        "    inputList.sort(key = by_score)\n",
        "    ### END CODE HERE ###\n",
        "def by_name(t):\n",
        "  return t[0]\n",
        "def by_age(t):\n",
        "  return t[1]\n",
        "def by_score(t):\n",
        "  return t[2]\n",
        "list1 = [('Taha',19,80), ('Farhad',20,90), ('Farrokh',17,91), ('Farrokh',17,93), ('Fatemeh',21,85)]\n",
        "sortTuple(list1)\n",
        "print(list1)"
      ]
    }
  ],
  "metadata": {
    "kernelspec": {
      "display_name": "Python 3",
      "language": "python",
      "name": "python3"
    },
    "language_info": {
      "codemirror_mode": {
        "name": "ipython",
        "version": 3
      },
      "file_extension": ".py",
      "mimetype": "text/x-python",
      "name": "python",
      "nbconvert_exporter": "python",
      "pygments_lexer": "ipython3",
      "version": "3.8.5"
    },
    "colab": {
      "provenance": [],
      "include_colab_link": true
    },
    "accelerator": "GPU",
    "gpuClass": "standard"
  },
  "nbformat": 4,
  "nbformat_minor": 0
}
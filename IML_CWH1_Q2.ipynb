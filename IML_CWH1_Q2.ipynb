{
  "cells": [
    {
      "cell_type": "markdown",
      "metadata": {
        "id": "view-in-github",
        "colab_type": "text"
      },
      "source": [
        "<a href=\"https://colab.research.google.com/github/shahryar-karimi/python_start/blob/main/IML_CWH1_Q2.ipynb\" target=\"_parent\"><img src=\"https://colab.research.google.com/assets/colab-badge.svg\" alt=\"Open In Colab\"/></a>"
      ]
    },
    {
      "cell_type": "markdown",
      "source": [
        "<h1 align=\"center\">An Introduction to Machine Learning - 25737</h1>\n",
        "<h4 align=\"center\">Dr. Sajjad Amini</h4>\n",
        "<h4 align=\"center\">Sharif University of Technology, Spring 2023</h4>\n",
        "\n",
        "# Problem Set 02\n",
        "\n",
        "Welcome to your second assignment. This exercise gives you a brief introduction to Python. \n"
      ],
      "metadata": {
        "id": "9CFNN5Ms51un"
      }
    },
    {
      "cell_type": "markdown",
      "source": [
        "STUDENT NAME: shahryar karimi\n",
        "\n",
        "STUDENT ID: 98100237"
      ],
      "metadata": {
        "id": "otVWavun6BLM"
      }
    },
    {
      "cell_type": "markdown",
      "source": [
        "## Import \n",
        ">Put all of your imports for this file in the below cell."
      ],
      "metadata": {
        "id": "ZmfUgXgE51uo"
      }
    },
    {
      "cell_type": "code",
      "execution_count": 51,
      "source": [
        "### START CODE HERE ###\n",
        "import numpy as np\n",
        "import pandas as pd\n",
        "import matplotlib.pyplot as plt\n",
        "### END CODE HERE ###"
      ],
      "outputs": [],
      "metadata": {
        "id": "PKyVIvPF51uo"
      }
    },
    {
      "cell_type": "markdown",
      "source": [
        "# Question 1"
      ],
      "metadata": {
        "id": "TK-ZIy9Z51up"
      }
    },
    {
      "cell_type": "markdown",
      "source": [
        "## Array creation\n",
        ">Create the followings to numpy array:\n",
        "* A: a 3\\*3 array like this:\n",
        "$$\n",
        "A = \\left(\\begin{array}{cc} \n",
        "10 & 20 & 30\\\\\n",
        "5 & 10 & 15\\\\\n",
        "1 & 5 & 8\n",
        "\\end{array}\\right)\n",
        "$$ \n",
        "* B: a 3\\*3\\*4 that filled with the numbers start from 15 and have steps of 5 to the end. The array should be filled first along the first dimension then the second dimension and at last the third dimension. like this:\n",
        "$$\n",
        "B[:, :, 0] = \\left(\\begin{array}{cc} \n",
        "15 & 30 & 45\\\\\n",
        "20 & 35 & 50\\\\\n",
        "25 & 40 & 55\n",
        "\\end{array}\\right)\n",
        "$$ "
      ],
      "metadata": {
        "id": "xATpgtcD51up"
      }
    },
    {
      "cell_type": "code",
      "execution_count": 33,
      "source": [
        "### START CODE HERE ###\n",
        "a = [[10, 20, 30], [5, 10, 15], [1, 5, 8]]\n",
        "A = np.array(a)\n",
        "print(A)\n",
        "print()\n",
        "B = np.arange(1, 3 * 3 * 4 + 1) * 5 + 10\n",
        "B = B.reshape((3, 3, 4), order = 'F')\n",
        "print(B[:, :, 0])\n",
        "### END CODE HERE ###"
      ],
      "outputs": [
        {
          "output_type": "stream",
          "name": "stdout",
          "text": [
            "[[10 20 30]\n",
            " [ 5 10 15]\n",
            " [ 1  5  8]]\n",
            "\n",
            "[[15 30 45]\n",
            " [20 35 50]\n",
            " [25 40 55]]\n"
          ]
        }
      ],
      "metadata": {
        "id": "TjIs628Y51up",
        "colab": {
          "base_uri": "https://localhost:8080/",
          "height": 0
        },
        "outputId": "664528da-e924-4358-ef01-cadb983f7a0b"
      }
    },
    {
      "cell_type": "markdown",
      "source": [
        "## Replacement\n",
        ">Replace the last slice of array B (B[:, :, 3]) with values of A. Then print the result."
      ],
      "metadata": {
        "id": "FnkUQTNY51up"
      }
    },
    {
      "cell_type": "code",
      "execution_count": 34,
      "source": [
        "### START CODE HERE ###\n",
        "B[:,:,3] = A.copy()\n",
        "print(B[:, :, 0])\n",
        "print(B[:, :, 1])\n",
        "print(B[:, :, 2])\n",
        "print(B[:, :, 3])\n",
        "### END CODE HERE ###"
      ],
      "outputs": [
        {
          "output_type": "stream",
          "name": "stdout",
          "text": [
            "[[15 30 45]\n",
            " [20 35 50]\n",
            " [25 40 55]]\n",
            "[[ 60  75  90]\n",
            " [ 65  80  95]\n",
            " [ 70  85 100]]\n",
            "[[105 120 135]\n",
            " [110 125 140]\n",
            " [115 130 145]]\n",
            "[[10 20 30]\n",
            " [ 5 10 15]\n",
            " [ 1  5  8]]\n"
          ]
        }
      ],
      "metadata": {
        "id": "P8VC57_o51uq",
        "colab": {
          "base_uri": "https://localhost:8080/",
          "height": 0
        },
        "outputId": "67632ca1-64b2-4de2-e1a7-d0ae14483dd3"
      }
    },
    {
      "cell_type": "markdown",
      "source": [
        "## Axis Swap \n",
        ">Swap the first(B[:, :, 0]) and last(B[:, :, 3]) slice of the array B **only with one line of code**. Then print the result."
      ],
      "metadata": {
        "id": "nZs4P5AZ51uq"
      }
    },
    {
      "cell_type": "code",
      "execution_count": 35,
      "source": [
        "### START CODE HERE ###\n",
        "c = B[:, :, 0].copy()\n",
        "B[:, :, 0] = B[:, :, 3].copy()\n",
        "B[:, :, 3] = c\n",
        "print(B[:, :, 0])\n",
        "print(B[:, :, 1])\n",
        "print(B[:, :, 2])\n",
        "print(B[:, :, 3])\n",
        "### END CODE HERE ###"
      ],
      "outputs": [
        {
          "output_type": "stream",
          "name": "stdout",
          "text": [
            "[[10 20 30]\n",
            " [ 5 10 15]\n",
            " [ 1  5  8]]\n",
            "[[ 60  75  90]\n",
            " [ 65  80  95]\n",
            " [ 70  85 100]]\n",
            "[[105 120 135]\n",
            " [110 125 140]\n",
            " [115 130 145]]\n",
            "[[15 30 45]\n",
            " [20 35 50]\n",
            " [25 40 55]]\n"
          ]
        }
      ],
      "metadata": {
        "id": "WmS33bBl51uq",
        "colab": {
          "base_uri": "https://localhost:8080/",
          "height": 0
        },
        "outputId": "4bb19676-fe4f-4928-f6f4-27b91d12c3d6"
      }
    },
    {
      "cell_type": "markdown",
      "source": [
        "## Transposing \n",
        ">Transpose the array B elements in each slice. Then print the result."
      ],
      "metadata": {
        "id": "220LTscL51uq"
      }
    },
    {
      "cell_type": "code",
      "execution_count": 36,
      "source": [
        "### START CODE HERE ###\n",
        "B[:, :, 0] = np.transpose(B[:, :, 0])\n",
        "B[:, :, 1] = np.transpose(B[:, :, 1])\n",
        "B[:, :, 2] = np.transpose(B[:, :, 2])\n",
        "B[:, :, 3] = np.transpose(B[:, :, 3])\n",
        "print(B[:, :, 0])\n",
        "print(B[:, :, 1])\n",
        "print(B[:, :, 2])\n",
        "print(B[:, :, 3])\n",
        "### END CODE HERE ###"
      ],
      "outputs": [
        {
          "output_type": "stream",
          "name": "stdout",
          "text": [
            "[[10  5  1]\n",
            " [20 10  5]\n",
            " [30 15  8]]\n",
            "[[ 60  65  70]\n",
            " [ 75  80  85]\n",
            " [ 90  95 100]]\n",
            "[[105 110 115]\n",
            " [120 125 130]\n",
            " [135 140 145]]\n",
            "[[15 20 25]\n",
            " [30 35 40]\n",
            " [45 50 55]]\n"
          ]
        }
      ],
      "metadata": {
        "id": "aNMAlnaC51uq",
        "colab": {
          "base_uri": "https://localhost:8080/",
          "height": 0
        },
        "outputId": "cab9157d-a8e8-43f9-b5c0-6cd5d49658dd"
      }
    },
    {
      "cell_type": "markdown",
      "source": [
        "## Matrix Multiplication\n",
        ">Calculate the matrix multiplication of all slices of the array B. \n",
        "(B[:, :, 0] \\* B[:, :, 1] \\* B[:, :, 2] \\* B[:, :, 3]). Then print the result.\n",
        "\n",
        ">**Note**: the result should be a 3\\*3 array. "
      ],
      "metadata": {
        "id": "xYFuQ6_H51uq"
      }
    },
    {
      "cell_type": "code",
      "execution_count": 37,
      "source": [
        "### START CODE HERE ###\n",
        "print(np.matmul(np.matmul(np.matmul(B[:, :, 0], B[:, :, 1]), B[:, :, 2]), B[:, :, 3]))\n",
        "### END CODE HERE ###"
      ],
      "outputs": [
        {
          "output_type": "stream",
          "name": "stdout",
          "text": [
            "[[ 39375000  45851625  52328250]\n",
            " [ 88537500 103100625 117663750]\n",
            " [134437500 156550500 178663500]]\n"
          ]
        }
      ],
      "metadata": {
        "id": "HfQRENtP51uq",
        "colab": {
          "base_uri": "https://localhost:8080/",
          "height": 0
        },
        "outputId": "8759a931-0b67-4d55-a54b-550c61bbd80a"
      }
    },
    {
      "cell_type": "markdown",
      "source": [
        "## Determinant\n",
        ">Calculate the determinant of the array A and print it."
      ],
      "metadata": {
        "id": "T-aKILXl51uq"
      }
    },
    {
      "cell_type": "code",
      "execution_count": 38,
      "source": [
        "### START CODE HERE ###\n",
        "print(np.linalg.det(A))\n",
        "### END CODE HERE ###"
      ],
      "outputs": [
        {
          "output_type": "stream",
          "name": "stdout",
          "text": [
            "0.0\n"
          ]
        }
      ],
      "metadata": {
        "id": "IuIyFxIb51ur",
        "colab": {
          "base_uri": "https://localhost:8080/",
          "height": 0
        },
        "outputId": "c370552e-2424-4638-b2f3-4cb7d8d2fdee"
      }
    },
    {
      "cell_type": "markdown",
      "source": [
        "# Question 2"
      ],
      "metadata": {
        "id": "dUxqZ--i51ur"
      }
    },
    {
      "cell_type": "markdown",
      "source": [
        "## Loading dataset\n",
        ">Load the IMDB-Movie-Data.csv file into a pandas dataframe and show its first 5 rows. Each row of this dataframe corresponds to one film."
      ],
      "metadata": {
        "id": "tVorf1Zj51ur"
      }
    },
    {
      "cell_type": "code",
      "execution_count": 39,
      "source": [
        "### START CODE HERE ###\n",
        "url = 'IMDB-Movie-Data.csv'\n",
        "df = pd.read_csv(url)\n",
        "### END CODE HERE ###"
      ],
      "outputs": [],
      "metadata": {
        "id": "dIsa36yi51ur"
      }
    },
    {
      "cell_type": "markdown",
      "source": [
        "## Actors/Actresses Activity\n",
        ">For each Actors/Actresses caculate the number of movies in the dataframe, then sort the actors/actresses first by their number of movies in descending order and then by their name in ascending order. "
      ],
      "metadata": {
        "id": "pgDvllsV51ur"
      }
    },
    {
      "cell_type": "code",
      "execution_count": 50,
      "source": [
        "### START CODE HERE ###\n",
        "d = {}\n",
        "for actors in df['Actors']:\n",
        "  a = actors.split(',')\n",
        "  for b in a:\n",
        "    if b in d:\n",
        "      d[b] += 1\n",
        "    else:\n",
        "      d[b] = 1\n",
        "d = dict(sorted(d.items(), key = lambda x:x[1], reverse = True))\n",
        "d = dict(sorted(d.items(), key = lambda x:x[0]))\n",
        "print(d)\n",
        "### END CODE HERE ###"
      ],
      "outputs": [
        {
          "output_type": "stream",
          "name": "stdout",
          "text": [
            "{' 50 Cent': 1, ' A.C. Peterson': 1, ' AJ Michalka': 1, ' Aamir Khan': 1, ' Aaron Burns': 2, ' Aaron Eckhart': 5, ' Aaron Paul': 1, ' Aaron Taylor-Johnson': 2, ' Aaron Yoo': 1, ' Aasif Mandvi': 1, ' Abbie Cornish': 5, ' Abigail Breslin': 2, ' Adam Brody': 1, ' Adam Campbell': 1, ' Adam Devine': 1, ' Adam Driver': 3, ' Adam G. Sevani': 1, ' Adam Levine': 1, ' Addison Timlin': 1, ' Adewale Akinnuoye-Agbaje': 1, ' Adil Hussain': 1, ' Adria Arjona': 1, ' Adrian Grenier': 1, ' Adrian Martinez': 2, ' Adrianne Palicki': 1, ' Adèle Exarchopoulos': 2, ' Aidan Gillen': 1, ' Aidan Turner': 1, ' Aiden Longworth': 1, ' Akihiro Kitamura': 1, ' Alain Moussi': 1, ' Alan Alda': 2, ' Alan Arkin': 1, ' Alan Rickman': 3, ' Alan Tudyk': 1, ' Albert Brooks': 3, ' Albert Finney': 1, ' Alden Ehrenreich': 1, ' Aldis Hodge': 1, ' Alec Baldwin': 4, ' Aleksandr Armer': 1, ' Alessandro Nivola': 1, ' Alex Essoe': 1, ' Alex Fisher': 1, ' Alex Pettyfer': 2, ' Alex R. Hibbert': 1, ' Alexander Skarsgård': 1, ' Alexandra Daddario': 3, ' Alexis Clagett': 1, ' Alexis Dziena': 1, ' Alfie Allen': 1, ' Alfre Woodard': 1, ' Alfred Molina': 1, ' Ali Larter': 2, ' Alia Shawkat': 1, ' Alice Braga': 2, ' Alice Eve': 2, ' Alicia Vikander': 5, ' Alison Brie': 3, ' Alison Pill': 1, ' Alison Sudol': 1, ' Alistair Abell': 1, ' Allen Leech': 1, ' Allison Janney': 1, ' Allison Tolman': 1, ' Alon Aboutboul': 1, ' Alyson Hannigan': 1, ' Amanda Bynes': 1, ' Amanda Righetti': 1, ' Amanda Seyfried': 4, ' Amara Miller': 1, ' Amber Heard': 3, ' Amber Tamblyn': 1, ' America Ferrera': 1, ' Amy Adams': 5, ' Amy Ryan': 4, ' Ana Wagener': 1, ' Ana de Armas': 1, ' Analeigh Tipton': 1, ' Andrea Riseborough': 3, ' Andrea Whitburn': 1, ' Andrew Garfield': 1, ' Andrew Howard': 1, ' Andrew Scott': 5, ' Andrew Simpson': 1, ' André Marcon': 1, ' Andy Buckley': 1, ' Andy Garcia': 1, ' Andy Lau': 1, ' Andy Samberg': 1, ' Andy Serkis': 2, ' Ang Phula Sherpa': 1, ' Angeliki Papoulia': 1, ' Angelina Jolie': 2, ' Angelique Pereira': 1, ' Angelo Josue Lozano Corzo': 1, ' Angourie Rice': 1, ' Anika Noni Rose': 1, ' Anil Kapoor': 1, ' Anna Camp': 1, ' Anna Faris': 2, ' Anna Foglietta': 1, ' Anna Friel': 1, ' Anna Hutchison': 1, ' Anna Kendrick': 6, ' AnnaSophia Robb': 1, ' Annabelle Attanasio': 1, ' Annabelle Wallis': 2, ' Annalise Basso': 1, ' Anne Consigny': 1, ' Anne Hathaway': 8, ' Anne Le Ny': 1, ' Annie Rose Buckley': 1, ' Annika Wedderkopp': 1, ' Ansel Elgort': 2, ' Anthony Anderson': 1, ' Anthony Cirillo': 1, ' Anthony Hopkins': 3, ' Anthony Mackie': 4, ' Antje Traue': 1, ' Antoine Bertrand': 1, ' Antoine-Olivier Pilon': 1, ' Anton Yelchin': 1, ' Antonia Ribero': 1, ' Antonio Banderas': 1, ' Antonio Tarver': 1, ' Anushka Sharma': 1, ' Anushka Shetty': 1, ' Anya Taylor-Joy': 2, ' Aoi Yuki': 2, ' Ari Graynor': 1, ' Ariadna Gil': 1, ' Ariel Levy': 1, ' Arielle Holmes': 1, ' Arlen Escarpeta': 1, ' Armie Hammer': 3, ' Armin Mueller-Stahl': 1, ' Arnaud Viard': 1, ' Arnold Schwarzenegger': 1, ' Art Parkinson': 2, ' Arturo Castro': 1, ' Aryana Engineer': 1, ' Asa Butterfield': 2, ' Ashleigh Cummings': 1, ' Ashley Benson': 1, ' Ashley C. Williams': 1, ' Ashley Walters': 1, ' Ashlyn Sanchez': 1, ' Ashlynn Yennie': 1, ' Ashton Kutcher': 1, ' Astrid Bergès-Frisbey': 1, ' Aubrey Plaza': 2, ' Audrey Fleurot': 1, ' Audrey Tautou': 2, ' Aurélien Recoing': 1, ' Austin Abrams': 1, ' Austin Pendleton': 1, ' Austin Stowell': 1, ' Axel Devillers': 1, ' Ayse Howard': 1, ' Babak Karimi': 1, ' Bahar Pars': 1, ' Baptiste Goy': 1, ' Barkhad Abdi': 2, ' Barkhad Abdirahman': 1, ' Barry Pepper': 1, ' Barry Ward': 2, ' Bee Vang': 1, ' Bel Powley': 1, ' Bella Heathcote': 1, ' Bella Thorne': 1, ' Ben Foster': 6, ' Ben Kingsley': 7, ' Ben Walker': 1, ' Ben Whishaw': 2, ' Benedict Cumberbatch': 2, ' Benedict Wong': 1, ' Benicio Del Toro': 1, ' Benjamin Bratt': 1, \" Beverly D'Angelo\": 1, ' Bijou Phillips': 1, ' Bill Engvall': 1, ' Bill Hader': 3, ' Bill Murray': 3, ' Bill Nighy': 5, ' Bill Paxton': 3, ' Bill Pullman': 1, ' Billie Piper': 1, ' Billy Bob Thornton': 2, ' Billy Burke': 1, ' Billy Crudup': 2, ' Blake Jenner': 1, ' Blake Lively': 3, ' Blanche Baker': 1, ' Blythe Auffarth': 1, ' Blythe Danner': 2, ' Bob Balaban': 2, ' Bob the Cat': 1, ' Bokeem Woodbine': 1, ' Bonnie Hunt': 1, ' Boyd Holbrook': 1, ' Brad Pitt': 4, ' Bradley Cooper': 7, ' Brady Corbet': 1, ' Branden Coles': 1, ' Brandon Scott': 1, ' Brandon T. Jackson': 1, ' Brea Grant': 1, ' Bree Turner': 1, ' Brenda Blethyn': 1, ' Brendan Gleeson': 5, ' Brenton Thwaites': 1, ' Brett Cullen': 1, ' Bria L. Murphy': 1, ' Brian Caspe': 1, ' Brian Geraghty': 1, ' Brian Howe': 1, ' Brian Marc': 1, ' Brian Milligan': 1, ' Briana Evigan': 1, ' Briana Shann': 1, ' Bridgette Barrett': 1, ' Brie Larson': 3, ' Brit Marling': 1, ' Brit Morgan': 1, ' Britt Robertson': 4, ' Brittany Murphy': 1, ' Brittany Snow': 1, ' Brooke Shields': 1, ' Brooklyn Decker': 2, ' Bruce Boxleitner': 1, ' Bruce Greenwood': 2, ' Bruce Willis': 2, ' Bruno Campos': 1, ' Bryan Cranston': 5, ' Bryan Greenberg': 1, ' Bryce Dallas Howard': 5, ' Burt Young': 1, ' Bárbara Lennie': 1, ' C.H. Evans': 1, ' CCH Pounder': 1, ' Caitlyn Rund': 1, ' Callie Hernandez': 1, ' Cam Gigandet': 2, ' Cameron Diaz': 3, ' Camille Cottin': 1, ' Candice Bergen': 1, ' Cara Buono': 1, ' Cara Delevingne': 1, ' Carey Mulligan': 3, ' Carla Gugino': 2, ' Carly Rae Jepsen': 1, ' Carmen Ejogo': 1, ' Carrie-Anne Moss': 1, ' Cary Elwes': 1, ' Cary Joji Fukunaga': 1, ' Cary-Hiroyuki Tagawa': 1, ' Casey Affleck': 4, ' Cassie Ventura': 1, ' Catalina Sandino Moreno': 1, ' Cate Blanchett': 8, ' Catherine Bégin': 1, ' Catherine Keener': 2, ' Catinca Untaru': 1, ' Chadwick Boseman': 1, ' Channing Tatum': 5, ' Charles Dance': 1, ' Charles S. Dutton': 1, ' Charlie Day': 3, ' Charlie Heaton': 1, ' Charlie Hunnam': 2, ' Charlie Tahan': 1, ' Charlize Theron': 7, ' Charlotte Gainsbourg': 3, ' Charlotte Le Bon': 5, ' Chase Offerle': 1, ' Chase Williamson': 1, ' Chira Cassel': 1, ' Chiwetel Ejiofor': 6, ' Chloë Grace Moretz': 8, ' Chloë Sevigny': 1, ' Chris Cooper': 1, ' Chris Evans': 4, ' Chris Hemsworth': 4, ' Chris Klein': 1, ' Chris Messina': 1, ' Chris Pine': 3, ' Chris Pratt': 4, ' Chris Rock': 2, ' Chris Wedge': 1, ' Christian Bale': 2, ' Christian Cooke': 1, ' Christian Distefano': 1, ' Christian Slater': 1, ' Christian Stevens': 1, ' Christian Stolte': 1, ' Christina Applegate': 1, ' Christina Grimmie': 1, ' Christina Hendricks': 2, ' Christoph Waltz': 3, ' Christopher Carley': 1, ' Christopher Fairbank': 1, ' Christopher Fitzgerald': 1, ' Christopher Jordan Wallace': 1, ' Christopher Lee': 1, ' Christopher McDonald': 1, ' Christopher Mintz-Plasse': 2, ' Christopher Plummer': 3, ' Ciarán Hinds': 4, ' Cillian Murphy': 5, ' Claire Danes': 1, ' Clara Mamet': 1, ' Clifton Collins Jr.': 2, ' Clint Dyer': 1, ' Clive Owen': 2, ' Clémence Poésy': 1, ' Cobie Smulders': 2, ' Cole Konis': 1, ' Colin Farrell': 2, ' Colin Firth': 1, ' Colin Hanks': 1, ' Colin Quinn': 1, ' Colleen Camp': 1, ' Colm Feore': 1, ' Colm Meaney': 1, ' Common': 1, ' Connie Nielsen': 1, ' Connor Paolo': 1, ' Corbin Reid': 1, ' Corey Hawkins': 1, ' Corey Stoll': 2, ' Cosmo Jarvis': 1, ' Courteney Cox': 1, ' Courtney Halverson': 1, ' Craig Ferguson': 2, ' Craig Robinson': 1, ' Crispin Glover': 1, ' Cush Jumbo': 1, ' Cynthia Nixon': 2, ' Dakota Blue Richards': 1, ' Dakota Fanning': 1, ' Dakota Goyo': 1, ' Dakota Johnson': 2, ' Dalia Hernández': 1, ' Damaine Radcliff': 1, ' Damien Marzette': 1, ' Damon Wayans Jr.': 1, ' Dan Byrd': 2, ' Dan Fogler': 1, ' Dan Stevens': 1, ' Dana Fuchs': 1, ' Dane Cook': 1, ' Dane DeHaan': 1, ' Daniel Brühl': 3, ' Daniel Craig': 1, ' Daniel Eric Gold': 1, ' Daniel Giménez Cacho': 1, ' Daniel Henshall': 1, ' Daniel Olbrychski': 1, ' Daniel Radcliffe': 1, ' Daniel Zovatto': 1, ' Daniella Kertesz': 1, ' Danielle Nicolet': 1, ' Danila Kozlovsky': 2, ' Danny DeVito': 1, ' Danny Glover': 1, ' Danny Huston': 1, ' Danny McBride': 2, ' Danny Trejo': 1, ' Dave Bautista': 1, ' Dave Franco': 2, ' David Arquette': 1, ' David Denman': 1, ' David Harbour': 2, ' David James': 1, ' David Morse': 2, ' David Oyelowo': 1, ' David Spade': 2, ' David Strathairn': 2, ' David Thewlis': 2, ' David Troughton': 1, ' David Wenham': 1, ' Dax Flame': 1, ' Dax Shepard': 1, \" De'Shawn Washington\": 1, ' Dean Mumford': 1, ' Dean Norris': 1, ' Dean Waite': 1, ' Deanna Dunagan': 1, ' Demi Moore': 1, ' Demián Bichir': 1, ' Denis Leary': 1, ' Dennis Quaid': 3, ' Derek Jeter': 1, ' Derek Luke': 1, ' Derek Mears': 1, ' Dermot Mulroney': 1, ' Dev Patel': 1, ' Devon Bostick': 2, ' Diane Kruger': 5, ' Diane Lane': 1, ' Dianna Agron': 2, ' Dick Van Dyke': 1, ' Diego Boneta': 1, ' Diego Luna': 3, ' Djimon Hounsou': 2, ' Do-won Kwak': 1, ' Dolph Lundgren': 1, ' Domhnall Gleeson': 5, ' Dominic Cooper': 3, ' Dominic West': 2, ' Dominique Abel': 1, ' Dominique McElligott': 1, ' Dominique Tipper': 1, ' Don Cheadle': 1, ' Don Thompson': 1, ' Donald Sutherland': 1, ' Dong-seok Ma': 1, ' Donna Murphy': 1, ' Donnie Yen': 1, ' Doona Bae': 1, ' Doug Jones': 1, ' Dougie McConnell': 1, ' Douglas M. Griffin': 2, ' Drew Barrymore': 1, ' Drew Seeley': 1, ' Duan Sanderson': 1, ' Dulé Hill': 1, ' Duncan Duff': 1, ' Duncan Joiner': 1, ' Dustin Hoffman': 3, ' Dwayne Johnson': 5, ' Dylan Minnette': 3, ' Ed Harris': 3, ' Ed Helms': 2, ' Ed Oxenbould': 2, ' Ed Skrein': 1, ' Eddie Baroo': 1, ' Eddie Izzard': 1, ' Eddie Marsan': 1, ' Edgar Ramírez': 3, ' Edie Falco': 1, ' Edward Norton': 2, ' Edwin Wright': 1, ' Elena Anaya': 1, ' Eli Roth': 1, ' Elijah Wood': 1, ' Elissa Knight': 1, ' Elizabeth Banks': 4, ' Elizabeth Debicki': 1, ' Elizabeth Gracen': 1, ' Elizabeth Henstridge': 1, ' Elizabeth Mitchell': 1, ' Elizabeth Olsen': 2, ' Ella Anderson': 1, ' Ella Rumpf': 1, ' Elle Fanning': 3, ' Ellen Burstyn': 2, ' Ellen Page': 3, ' Ellie Kemper': 1, ' Ellie Kendrick': 1, ' Emayatzy Corinealdi': 1, ' Emile Hirsch': 2, ' Emilia Clarke': 1, ' Emilie de Ravin': 2, ' Emily Blunt': 6, ' Emily Browning': 2, ' Emily Meade': 1, ' Emily Mortimer': 3, ' Emily Ratajkowski': 1, ' Emma Bell': 1, ' Emma Fitzpatrick': 1, ' Emma Roberts': 1, ' Emma Stone': 7, ' Emma Thompson': 2, ' Emma Watson': 7, ' Emmanuelle Chriqui': 1, ' Emmy Rossum': 1, ' Emory Cohen': 2, ' Eric Bana': 4, ' Eric Stonestreet': 2, ' Eric Winter': 1, ' Erin Moriarty': 2, ' Ernst Stötzner': 1, ' Ethan Hawke': 2, ' Ethan Suplee': 1, ' Eva Green': 3, ' Eva Mendes': 3, ' Evan Rachel Wood': 1, ' Evangeline Lilly': 2, ' Eve': 1, ' Ewa Fröling': 1, ' Ewan McGregor': 1, ' Ewen Leslie': 2, ' Ezra Miller': 2, ' F. Murray Abraham': 1, ' Famke Janssen': 2, ' Fatima Sana Shaikh': 1, ' Felicity Jones': 4, ' Filip Berg': 1, ' Florence Clery': 1, ' Florence Kastriner': 1, ' Forest Whitaker': 2, \" Frances O'Connor\": 1, ' Frank Langella': 1, ' Fred Willard': 1, ' Freddy Rodríguez': 1, ' Freida Pinto': 2, ' Gabriel Basso': 2, ' Gabriel Bateman': 1, ' Gabriel Byrne': 1, ' Gabriel Luna': 1, ' Gabriela Lopez': 1, ' Gabriella Wilde': 1, ' Gaby Hoffmann': 1, ' Gael García Bernal': 1, ' Gal Gadot': 2, ' Garret Dillahunt': 1, ' Garrett Hedlund': 4, ' Garrett M. Brown': 1, ' Gary Cole': 2, ' Gary Oldman': 5, ' Gattlin Griffith': 1, ' Gedeon Burkhard': 1, ' Gemma Arterton': 1, ' Gemma Jones': 1, ' Gemma Ward': 1, ' Geoffrey Arend': 1, ' Geoffrey Rush': 2, ' George Clooney': 2, ' George Lopez': 1, ' George MacKay': 1, ' Gerard Butler': 6, ' Gerry Bednob': 1, ' Gian Keys': 1, ' Gil Birmingham': 2, ' Gillian Jacobs': 1, ' Gina Carano': 1, ' Giovanni Ribisi': 1, ' Glenn Close': 1, ' Golshifteh Farahani': 1, ' Grace Van Patten': 1, ' Graham McTavish': 1, ' Greg Kinnear': 1, ' Gregg Weiner': 1, ' Gregory Jones': 1, ' Greta Gerwig': 2, ' Gretchen Mol': 1, ' Gugu Mbatha-Raw': 3, ' Guy Pearce': 3, ' Gwyneth Paltrow': 4, ' Hae-il Park': 1, ' Hailee Steinfeld': 5, ' Haley Bennett': 4, ' Haley Joel Osment': 1, ' Haley Lu Richardson': 2, ' Halle Berry': 2, ' Hans Matheson': 1, ' Harley Quinn Smith': 1, ' Harold Perrineau': 1, ' Harrison Ford': 2, ' Harry Connick Jr.': 1, ' Harvey Keitel': 1, ' Hayden Panettiere': 1, ' Hayley McElhinney': 1, ' Hayley Squires': 1, ' Heath Ledger': 2, ' Heather Matarazzo': 1, ' Hee-Bong Byun': 1, ' Helen Mirren': 2, ' Helena Bonham Carter': 5, ' Henry Cavill': 1, ' Hristos Passalis': 1, ' Hugh Grant': 2, ' Hugh Jackman': 8, ' Hugh Laurie': 1, ' Hugo Weaving': 2, ' Hunter McCracken': 1, ' Iain Glen': 1, ' Ian McKellen': 4, ' Ian McShane': 4, ' Ice Cube': 2, ' Ida Engvoll': 1, ' Idina Menzel': 1, ' Idris Elba': 4, ' Ike Barinholtz': 1, ' Imelda Staunton': 1, ' Imogen Poots': 4, ' India Eisley': 1, ' Iris Apatow': 1, ' Irrfan Khan': 3, ' Isabel Lucas': 1, ' Isabelle Fuhrman': 1, ' Isabelle Nélisse': 1, ' Isla Fisher': 1, ' Israel Broussard': 1, ' Ivo Nandi': 1, ' J. Todd Smith': 1, ' J.K. Simmons': 5, ' Jack Black': 1, ' Jack Davenport': 2, ' Jack Holden': 1, ' Jack Huston': 3, ' Jack Madigan': 1, ' Jack McBrayer': 1, ' Jack Nicholson': 1, \" Jack O'Connell\": 1, ' Jack Reynor': 2, ' Jack Taylor': 1, ' Jacki Weaver': 1, ' Jackson Rathbone': 1, ' Jacob Tremblay': 3, ' Jade Asha': 1, ' Jaden Smith': 2, ' Jae Head': 1, ' Jael Elizabeth Steinmeyer': 1, ' Jai Courtney': 3, ' Jaime Winstone': 1, ' Jake Abel': 1, ' Jake Gyllenhaal': 2, ' Jalil Lespert': 1, ' James Badge Dale': 3, ' James DuMont': 1, ' James Floyd': 1, ' James Franco': 4, ' James Frecheville': 2, ' James Gandolfini': 1, ' James Marsden': 3, ' James Marsters': 1, ' James McAvoy': 4, ' James Ransone': 2, ' James Russell': 1, ' Jamie Bell': 7, ' Jamie Blackley': 1, ' Jamie Campbell Bower': 1, ' Jamie Chung': 1, ' Jamie Dornan': 1, ' Jamie Foxx': 4, ' Jan Cornet': 1, ' Jane Fonda': 2, ' Jane Levy': 2, ' Jane Lynch': 1, ' Janelle Monáe': 1, ' Janet McTeer': 1, ' Janet Montgomery': 1, ' January Jones': 1, ' Jared Harris': 2, ' Jared Leto': 2, ' Jasmine Trinca': 1, ' Jason Barry': 1, ' Jason Bateman': 4, ' Jason Clarke': 3, ' Jason Cope': 1, ' Jason Isaacs': 1, ' Jason Mitchell': 1, ' Jason Momoa': 1, \" Jason O'Mara\": 1, ' Jason Schwartzman': 2, ' Jason Segel': 2, ' Jason Statham': 4, ' Jason Sudeikis': 4, ' Jasper Newell': 1, ' Javier Bardem': 5, ' Jean Reno': 1, ' Jean-Claude Van Damme': 1, ' Jeff Branson': 1, ' Jeff Bridges': 4, ' Jeff Daniel Phillips': 1, ' Jeff Daniels': 2, ' Jeff Garlin': 1, ' Jeff Goldblum': 1, ' Jeff Kahn': 1, ' Jeffrey Dean Morgan': 1, ' Jeffrey Vincent Parise': 1, ' Jeffrey Wright': 2, ' Jena Malone': 1, ' Jenna Dewan Tatum': 2, ' Jenna Elfman': 1, ' Jennette McCurdy': 1, ' Jennifer Aniston': 4, ' Jennifer Connelly': 4, ' Jennifer Ehle': 2, ' Jennifer Garner': 5, ' Jennifer Jason Leigh': 1, ' Jennifer Koenig': 1, ' Jennifer Lawrence': 3, ' Jennifer Lopez': 1, ' Jennifer Morrison': 1, ' Jennifer Saunders': 1, ' Jenny Slate': 1, ' Jeremy Davies': 1, ' Jeremy Irons': 4, ' Jeremy Irvine': 1, ' Jeremy McWilliams': 1, ' Jeremy Renner': 4, ' Jerry Ferrara': 1, \" Jerry O'Connell\": 1, ' Jerry Stiller': 1, ' Jesse Borrego': 1, ' Jesse Bradford': 1, ' Jesse Eisenberg': 2, ' Jesse Plemons': 1, ' Jessica Alba': 2, ' Jessica Barden': 1, ' Jessica Barth': 1, ' Jessica Biel': 2, ' Jessica Brown Findlay': 1, ' Jessica Chastain': 5, ' Jessica Lange': 1, ' Jessica Lucas': 2, ' Jessica Sula': 1, ' Jessie Ok Gray': 1, ' Jet Li': 3, ' Ji-min Han': 1, ' Jim Broadbent': 2, ' Jim Carrey': 2, ' Jim Caviezel': 1, ' Jim Norton': 1, ' Jim Sturgess': 3, ' Jin-woong Jo': 1, ' Jo Hartley': 1, ' Joan Allen': 3, ' Joan Cusack': 1, ' Joanne Froggatt': 1, ' Joaquin Phoenix': 1, ' Jodie Foster': 2, ' Joe Anderson': 2, ' Joe Cobden': 1, ' Joe Manganiello': 1, ' Joel Courtney': 1, ' Joel David Moore': 1, ' Joel Edgerton': 8, ' Joel Kinnaman': 1, ' Joel McHale': 1, ' Joely Richardson': 1, ' Joey Lauren Adams': 1, ' Joey Morgan': 1, ' John Alexander': 1, ' John Boyega': 1, ' John C. McGinley': 1, ' John C. Reilly': 5, ' John Carroll Lynch': 1, ' John Corbett': 2, ' John Cullum': 1, ' John Cusack': 1, \" John D'Leo\": 1, ' John DeLuca': 1, ' John Doman': 1, ' John Gallagher Jr.': 1, ' John Goodman': 5, ' John Hawkes': 1, ' John Hodgman': 1, ' John Hurt': 2, ' John Leguizamo': 3, ' John Malkovich': 1, ' John Ortiz': 1, ' John Ratzenberger': 1, ' John Turturro': 1, ' Johnny Depp': 4, ' Johnny Simmons': 1, ' Jon Bernthal': 2, ' Jon Daly': 1, ' Jon Favreau': 2, ' Jon Hamm': 3, ' Jon Voight': 1, ' Jonah Hill': 7, ' Jonathan Daniel Brown': 1, ' Jonathan Groff': 1, ' Jonathan Rhys Meyers': 1, ' Jonathan Roumie': 1, ' Jonny Brugh': 1, ' Jonny Weston': 1, ' Jordan Carlos': 1, ' Jordan Nagai': 1, ' Jordan Peele': 1, ' Jordana Brewster': 2, ' Jordi Mollà': 1, ' Jorge Garcia': 1, ' Jorma Taccone': 1, ' Josef Altin': 1, ' Joseph Fiennes': 1, ' Joseph Gordon-Levitt': 3, ' Joseph Julian Soria': 1, ' Josh Brener': 1, ' Josh Brolin': 6, ' Josh Duhamel': 5, ' Josh Gad': 2, ' Josh Hutcherson': 5, ' Josh Lucas': 1, ' Josh Peck': 1, ' Josh Wiggins': 2, ' Joshua McIvor': 1, ' José Coronado': 1, ' Jovan Adepo': 1, ' Juan Saavedra': 1, ' Jude Law': 6, ' Judi Dench': 4, ' Judy Davis': 2, ' Judy Greer': 1, ' Julia Ormond': 1, ' Julia Roberts': 3, ' Julia Stiles': 1, ' Julian Barratt': 1, ' Julian Dennison': 1, ' Julian Richings': 1, ' Julian Vergov': 1, ' Julianna Margulies': 1, ' Julianne Hough': 1, ' Julianne Moore': 3, ' Julie Andrews': 1, ' Julie Benz': 1, ' Julie Walters': 1, ' Juliet Rylance': 1, ' Jung-min Hwang': 1, ' Jung-woo Ha': 1, ' Juno Temple': 1, ' Justice Smith': 1, ' Justin Bartha': 2, ' Justin Chon': 1, ' Justin Long': 2, ' Justin Theroux': 2, ' Justin Timberlake': 3, ' Justine Waddell': 1, ' Kagiso Kuypers': 1, ' Kai Ryssdal': 1, ' Kaitlin Olson': 1, ' Kang-ho Song': 1, ' Kara Hayward': 1, ' Karel Hermánek Jr.': 1, ' Karen Moskow': 1, ' Kari Matchett': 1, ' Karin Konoval': 1, ' Karl Glusman': 2, ' Karl Markovics': 1, ' Karl Urban': 2, ' Karolina Gruszka': 1, ' Karrueche Tran': 1, ' Kat Dennings': 1, ' Kate Beckinsale': 1, ' Kate Bosworth': 2, ' Kate Dickie': 1, ' Kate Hudson': 2, ' Kate Mara': 4, ' Kate McKinnon': 1, ' Kate Siegel': 1, ' Kate Upton': 1, ' Kate Winslet': 5, ' Katee Sackhoff': 2, ' Katey Sagal': 1, ' Katherine Heigl': 1, ' Katherine Reis': 1, ' Katherine Waterston': 1, ' Kathleen Munroe': 1, ' Kathleen Quinlan': 1, ' Kathryn Hahn': 3, ' Kathy Bates': 1, ' Kati Outinen': 1, ' Katie Crown': 1, ' Katie Holmes': 1, ' Kay Whitney': 1, ' Kaya Scodelario': 2, ' Keanu Reeves': 2, ' Keir Gilchrist': 1, ' Keira Knightley': 4, ' Keith Carradine': 1, ' Keith David': 1, ' Kelcey Watson': 1, ' Kelly Adams': 1, ' Kelly McGillis': 1, ' Kelly Reilly': 1, ' Ken Watanabe': 3, ' Kenneth Welsh': 1, ' Kenshô Ono': 1, ' Keri Russell': 3, ' Kerry Bishé': 2, ' Kevin Bacon': 2, ' Kevin Connolly': 1, ' Kevin Costner': 1, ' Kevin Dillon': 1, ' Kevin Hart': 3, ' Kevin James': 4, ' Kevin Kline': 1, ' Kevin Leslie': 1, ' Kevin McKidd': 1, ' Kevin Nealon': 1, ' Kevin Spacey': 3, ' Kiefer Sutherland': 3, ' Kieran Culkin': 1, ' Kiernan Shipka': 1, ' Kiersey Clemons': 1, ' Kim Cattrall': 2, ' Kim Uylenbroek': 1, ' Kirby Bliss Blanton': 1, ' Kirsten Dunst': 3, ' Kit Harington': 1, ' Klara Kristin': 1, ' Kodi Smit-McPhee': 2, ' Kofi Siriboe': 1, ' Kristen Bell': 2, ' Kristen Stewart': 2, ' Kristen Wiig': 6, ' Kristin Chenoweth': 1, ' Kristin Davis': 2, ' Kristin Scott Thomas': 1, ' Ksenia Solo': 1, ' Kunal Kapoor': 1, ' Kurt Fuller': 1, ' Kurt Russell': 2, ' Kyle Chandler': 4, ' Kyle Gallner': 2, ' Kylie Rogers': 1, ' Kyra Sedgwick': 1, ' Laine Megaw': 1, ' Lainie Kazan': 1, ' Lake Bell': 1, ' Lara Pulver': 1, ' Larry the Cable Guy': 2, ' Lars Eidinger': 1, ' Lasse Fogelstrøm': 1, ' Laura Abramsen': 1, ' Laura Allen': 1, ' Laura Dern': 2, ' Laura Linney': 3, ' Laura Ramsey': 1, ' Laura Waddell': 1, ' Lauren Holly': 1, ' Laurence Fishburne': 1, ' Laurence Leboeuf': 1, ' Laurent Lafitte': 1, ' Laurie Holden': 2, ' Leehom Wang': 1, ' Leland Orser': 1, ' Lena Headey': 5, ' Leonard Nimoy': 1, ' Leonardo DiCaprio': 1, ' Leslie Bibb': 2, ' Leslie Jones': 1, ' Leslie Mann': 6, ' Lewis Black': 2, ' Lia Bugnar': 1, ' Lia Marie Johnson': 2, ' Liam Hemsworth': 6, ' Liam McMahon': 1, ' Liam Neeson': 5, ' Liana Liberato': 1, ' Liev Schreiber': 5, ' Lili Taylor': 1, ' Lily Cole': 1, ' Lily Rabe': 1, ' Lin Shaye': 2, ' Linda Cardellini': 2, ' Linda Gegusch': 1, ' Linh Dan Pham': 1, ' Lior Ashkenazi': 1, ' Lisa Kudrow': 2, ' Lisa Thoreson': 1, ' Liv Tyler': 3, ' Lizzy Caplan': 2, ' Logan Huffman': 1, ' Logan Lerman': 1, ' Logan Marshall-Green': 1, ' Logan Miller': 1, ' Lorenza Izzo': 1, ' Lorraine Nicholson': 1, ' Lorraine Toussaint': 1, ' Lou Romano': 1, ' Lou Taylor Pucci': 1, ' Loïs van Wijk': 1, ' Lucas Black': 1, ' Lucas Till': 1, ' Lucy Boynton': 2, ' Lucy Fry': 1, ' Lucy Hale': 1, ' Lucy Liu': 1, ' Lucy Walters': 1, ' Luing Andrews': 1, ' Lukas Hassel': 1, ' Luke Bracey': 3, ' Luke Evans': 1, ' Luke Kleintank': 1, ' Lulu Wilson': 1, \" Lupita Nyong'o\": 1, ' Lynn Collins': 1, ' Lynsey Taylor Mackay': 1, ' Léa Seydoux': 2, ' Mackenzie Foy': 1, ' Maddie Ziegler': 1, ' Madeleine West': 1, ' Madhavan': 1, ' Madison Wolfe': 1, ' Maggie Grace': 3, ' Maggie Gyllenhaal': 1, ' Maggie Q': 1, ' Mahershala Ali': 1, ' Maika Monroe': 1, ' Malcolm Sinclair': 1, ' Malin Akerman': 2, ' Mandy Gonzalez': 1, ' Marcia Gay Harden': 2, ' Marco Giallini': 1, ' Margot Robbie': 5, ' Maria Bello': 3, ' Maria Dizzia': 1, ' Maria Doyle Kennedy': 1, ' Maria-Victoria Dragus': 1, ' Mariah Carey': 1, ' Marie Gruber': 1, ' Marion Cotillard': 5, ' Mark Boone Junior': 1, ' Mark Consuelos': 1, ' Mark Ruffalo': 6, ' Mark Rylance': 1, ' Mark Strong': 7, ' Mark Wahlberg': 4, ' Marlon Wayans': 1, ' Martin Freeman': 5, ' Martin Henderson': 2, ' Martin Kabanza': 1, ' Martin McCann': 1, ' Martina Gedeck': 1, ' Marton Csokas': 2, ' Mary Elizabeth Winstead': 3, ' Mary McCormack': 1, ' Mary Steenburgen': 2, ' Mary-Louise Parker': 1, ' María Marull': 1, ' Mason Lee': 1, ' Mateo Arias': 1, ' Mathieu Amalric': 2, ' Matt Bomer': 2, ' Matt Damon': 3, ' Matt Lanter': 1, ' Matt Long': 1, ' Matthew Bohrer': 1, ' Matthew Fox': 1, ' Matthew Goode': 2, ' Matthew Macfadyen': 2, ' Matthew Marsden': 1, ' Matthew McConaughey': 1, ' Matthew Morrison': 1, ' Matthew Perry': 1, ' Matthew Zuk': 1, ' Matthias Schoenaerts': 1, ' Maude Apatow': 1, ' Mauricio Lopez': 1, ' Maury Sterling': 1, ' Max Burkholder': 1, ' Max Greenfield': 1, ' Max Irons': 1, ' Max Minghella': 2, ' Maxim Gaudette': 1, ' Maya Rudolph': 4, ' Mayko Nguyen': 1, ' McCaul Lombardi': 1, ' Meagan Good': 1, ' Megan Charpentier': 1, ' Megan Fox': 2, ' Megan Park': 1, ' Mel Raido': 1, ' Melissa Benoist': 1, ' Melissa Leo': 1, ' Melissa McCarthy': 1, ' Meredith Hagner': 1, ' Meryl Streep': 4, ' Mia Goth': 1, ' Mia Stallard': 1, ' Michael B. Jordan': 2, ' Michael C. Hall': 1, ' Michael Caine': 1, ' Michael Cera': 1, ' Michael Chiklis': 1, ' Michael Constantine': 1, ' Michael Doneger': 1, ' Michael Douglas': 1, ' Michael Ealy': 1, ' Michael Fassbender': 5, ' Michael Gambon': 2, ' Michael Ironside': 1, ' Michael Keaton': 3, ' Michael Kelly': 1, ' Michael Kenneth Williams': 1, ' Michael McDonald': 1, ' Michael McElhatton': 2, ' Michael Nyqvist': 2, ' Michael Parks': 2, ' Michael Peña': 5, ' Michael Pitt': 1, ' Michael Rooker': 1, ' Michael Shannon': 2, ' Michael Sheen': 3, ' Michael Trucco': 1, ' Michael Wittenborn': 1, ' Michael Yare': 1, ' Michal Vondel': 1, ' Michele Valley': 1, ' Michelle Monaghan': 8, ' Michelle Pfeiffer': 2, ' Michelle Rodriguez': 5, ' Michelle Williams': 3, ' Michelle Yeoh': 2, ' Michiel Huisman': 2, ' Mickey Rourke': 2, ' Mike Birbiglia': 2, ' Mike Vogel': 1, ' Mila Kunis': 6, ' Miles Fisher': 2, ' Miles Heizer': 1, ' Miles Teller': 2, ' Milla Jovovich': 1, ' Milo Ventimiglia': 1, ' Min-sik Choi': 1, ' Mindy Kaling': 1, ' Mira Sorvino': 1, ' Miranda Cosgrove': 1, ' Mireille Enos': 2, ' Miyavi': 1, \" Mo'Nique\": 1, ' Moe Dunford': 1, ' Mohamed Akhzam': 1, ' Moises Arias': 1, ' Molly Ringwald': 1, ' Mona Singh': 1, ' Mone Kamishiraishi': 1, ' Moon Bloodgood': 1, ' Morena Baccarin': 1, ' Morgan Freeman': 8, ' Morgan Lily': 1, ' Mustafa Kamel': 1, ' Mykelti Williamson': 1, ' Mylène Jampanoï': 1, ' Mélanie Laurent': 1, ' Mélissa Désormeaux-Poulin': 1, ' Mónica Villa': 1, ' Nadine Velazquez': 2, ' Nancy Kwan': 1, ' Naomi Ackie': 1, ' Naomi Battrick': 1, ' Naomi Watts': 3, ' Naomie Harris': 1, ' Nat Wolff': 1, ' Natalie Krill': 1, ' Natalie Martinez': 1, ' Natalie Portman': 4, ' Natascha McElhone': 1, ' Nathalie Boltt': 1, ' Nathan Fillion': 1, ' Nathan Phillips': 1, ' Ned Beatty': 1, ' Neil Flynn': 1, ' Neil Patrick Harris': 1, ' Nellie': 1, ' Ni Ni': 1, ' Nicholas Braun': 1, ' Nicholas Brendon': 1, ' Nicholas Galitzine': 1, ' Nicholas Hope': 1, ' Nicholas Hoult': 3, ' Nick Damici': 2, ' Nick Frost': 3, ' Nick Krause': 1, ' Nick Nolte': 1, ' Nick Offerman': 2, ' Nicola Peltz': 2, ' Nicolas Cage': 1, ' Nicole Kidman': 3, ' Nikki Blonsky': 1, ' Nikki SooHoo': 1, ' Niko Nicotera': 1, ' Nikolaj Coster-Waldau': 3, ' Nina Dobrev': 1, ' Noah Taylor': 1, ' Noah Wiseman': 1, ' Noel Fisher': 1, ' Noomi Rapace': 3, ' Oakes Fegley': 1, ' Oaklee Pendergast': 1, ' Octavia Spencer': 2, ' Odeya Rush': 1, ' Olan Rogers': 1, ' Olga Kurylenko': 3, ' Oliver Cooper': 1, ' Oliver Platt': 2, ' Olivia Colman': 1, ' Olivia Cooke': 1, ' Olivia Luccardi': 1, ' Olivia Moyles': 1, ' Olivia Munn': 2, ' Olivia Thirlby': 2, ' Olivia Wilde': 2, ' Olivia Williams': 1, ' Omar Sy': 1, ' Oona Chaplin': 1, ' Oona Laurence': 1, ' Ophelia Lovibond': 1, ' Oprah Winfrey': 2, ' Orlando Bloom': 2, ' Orto Ignatiussen': 1, ' Oscar Isaac': 2, ' Osric Chau': 1, ' Owen Wilson': 6, ' Pablo Rago': 1, ' Pablo Schreiber': 1, ' Pat Cashman': 1, ' Patricia Arquette': 1, ' Patricia Clarkson': 2, ' Patrick Dempsey': 2, ' Patrick Wilson': 3, ' Patton Oswalt': 1, ' Paul Anderson': 1, ' Paul Birchard': 1, ' Paul Borghese': 1, ' Paul Dano': 2, ' Paul Giamatti': 2, ' Paul Newman': 1, ' Paul Reiser': 1, ' Paul Rudd': 3, ' Paul Walker': 4, ' Paula Beer': 1, ' Paula Patton': 5, ' Paula Prentiss': 1, ' Paulin Jaccoud': 1, ' Penelope Wilton': 1, ' Penn Badgley': 1, ' Penélope Cruz': 4, ' Peter Dinklage': 1, ' Peter Facinelli': 1, ' Peter McRobbie': 1, ' Peter Riegert': 1, ' Peter Sarsgaard': 4, ' Peter Simonischek': 1, ' Peter Stormare': 1, ' Peyton List': 1, ' Philip Seymour Hoffman': 3, ' Phylicia Rashad': 1, ' Pierce Brosnan': 3, ' Pierre Coffin': 1, ' Pierre Niney': 1, ' Pierre Richard': 1, ' Portia Doubleday': 1, ' Priyanka Moodley': 1, ' Queen Latifah': 1, ' RJ Cyler': 1, ' Rabah Nait Oufella': 1, ' Rachael Blake': 1, ' Rachael Harris': 1, ' Rachel Blanchard': 1, ' Rachel Dratch': 1, ' Rachel House': 2, ' Rachel McAdams': 7, ' Rachel Quinn': 1, ' Rachel Weisz': 6, ' Rachel Wood': 1, ' Raffey Cassidy': 1, ' Raghuvir Joshi': 1, ' Ralph Fiennes': 6, ' Ralph Ineson': 1, ' Rana Daggubati': 1, ' Randall Park': 1, ' Randy Couture': 1, ' Raoul Max Trujillo': 1, ' Rasmus Hardiker': 1, ' Ray Stevenson': 2, ' Ray Winstone': 2, ' Rebecca Ferguson': 3, ' Rebecca Hall': 4, ' Rebel Wilson': 4, ' Reese Witherspoon': 1, ' Regina Hall': 1, ' Ren Ôsugi': 1, ' Rene Russo': 2, ' Renée Zellweger': 1, ' Rhona Mitra': 1, ' Rhys Ifans': 1, ' Riccardo Scamarcio': 1, ' Richard Armitage': 3, ' Richard Brake': 1, ' Richard Dreyfuss': 1, ' Richard Garcia': 1, ' Richard Gere': 1, ' Richard Jenkins': 4, ' Richard Kind': 1, ' Richard Madden': 2, ' Rick Gonzalez': 1, ' Rihanna': 1, ' Rila Fukushima': 1, ' Riley Keough': 1, ' Riley Thomas Stewart': 1, ' Rima Te Wiata': 1, ' Rinko Kikuchi': 1, ' Rip Torn': 1, ' Rita Cortese': 1, ' Riz Ahmed': 1, ' Rizwan Manji': 1, ' Rob Corddry': 1, ' Rob Riggle': 2, ' Robbie Amell': 2, ' Robert Capron': 3, ' Robert Carlyle': 1, ' Robert De Niro': 4, ' Robert Downey Jr.': 4, ' Robert Duvall': 1, ' Robert Knepper': 1, ' Robert Patrick': 1, ' Robert Pattinson': 5, ' Robert Redford': 2, ' Robert Sheehan': 1, ' Robin Williams': 2, ' Robin Wright': 2, ' Rodrigo Santoro': 2, ' Roger Bart': 1, ' Roman Jossart': 1, ' Roman Kolinka': 1, ' Ron Livingston': 1, ' Ron Perlman': 4, ' Ronnie Gene Blevins': 1, ' Rooney Mara': 4, ' Rory J. Saper': 1, ' Rosamund Pike': 5, ' Rosario Dawson': 6, ' Rose Byrne': 9, ' Rose Leslie': 2, ' Rose McGowan': 2, ' Rosemarie DeWitt': 1, ' Rosie Huntington-Whiteley': 1, ' Ross Kimball': 1, ' Rostislav Bershauer': 1, ' Rotimi': 1, ' Ruby Barnhill': 1, ' Rubén Blades': 1, ' Rufus Sewell': 1, ' Rupert Evans': 1, ' Rupert Friend': 1, ' Rupert Grint': 4, ' Russell Brand': 1, ' Russell Crowe': 3, ' Ruta Gedmintas': 1, ' Ruth Wilson': 1, ' Ryan Gosling': 5, ' Ryan Guzman': 2, ' Ryan Lee': 1, ' Ryan Reynolds': 4, ' Ryô Narita': 1, ' Sacha Baron Cohen': 1, ' Sachet Engineer': 1, ' Sakshi Tanwar': 1, ' Salim Kechiouche': 1, ' Salli Richardson-Whitfield': 1, ' Sally Field': 1, ' Sally Hawkins': 2, ' Salma Hayek': 1, ' Sam Claflin': 4, ' Sam Elliott': 1, ' Sam Neill': 1, ' Sam Quartin': 1, ' Sam Riley': 1, ' Sam Rockwell': 2, ' Sam Shepard': 1, ' Sam Trammell': 1, ' Sam Worthington': 2, ' Samantha Isler': 1, ' Samuel L. Jackson': 7, ' Sandra Bullock': 1, ' Sandra Kinder': 1, ' Sanjay Dutt': 1, ' Sanjeev Bhaskar': 1, ' Saoirse Ronan': 1, ' Saori Hayami': 1, ' Sarah Gadon': 4, ' Sarah Paulson': 1, ' Sarah Polley': 1, ' Sarah Roemer': 1, ' Sarah Silverman': 2, ' Sarah Snook': 1, ' Sarita Choudhury': 1, ' Saurabh Shukla': 1, ' Scarlett Johansson': 8, ' Scorcher': 1, ' Scott Adsit': 1, ' Scott Eastwood': 1, ' Scott Glenn': 2, ' Scott Mescudi': 1, ' Sean Bean': 2, ' Sean Bott': 1, ' Sean Bridgers': 1, ' Sean Patrick Thomas': 1, ' Sean Penn': 1, ' Sebastian Pigott': 1, ' Sebastian Stan': 1, ' Selena Gomez': 3, ' Selma Blair': 1, ' Sergej Trifunovic': 1, ' Sergi López': 1, ' Seth MacFarlane': 3, ' Seth Rogen': 5, ' Seychelle Gabriel': 1, ' Shad Moss': 1, ' Shah Rukh Khan': 1, ' Shahab Hosseini': 1, ' Shailene Woodley': 3, ' Shariff Earp': 1, ' Sharlto Copley': 4, ' Sharman Joshi': 1, ' Sharon Percy': 1, ' Shawn Roberts': 1, ' Shea Adams': 1, ' Sheila Kelley': 1, ' Shelley Hennig': 1, ' Shia LaBeouf': 5, ' Shiloh Fernandez': 1, ' Sienna Guillory': 2, ' Sienna Miller': 5, ' Sigourney Weaver': 3, ' Sigrid Bouaziz': 1, ' Simon Cotton': 1, ' Simon Helberg': 1, ' Simon Pegg': 3, ' Sixtine Murat': 1, ' Skyler Gisondo': 1, ' Slobodan Bestic': 1, ' So-ri Moon': 1, ' Soledad Villamil': 1, ' Soo-an Kim': 1, ' Sophie Perry': 1, ' Stacy Martin': 1, ' Stanley Tucci': 1, ' Steele Stebbins': 1, ' Stellan Skarsgård': 2, ' Stephen Curry': 1, ' Stephen Dorff': 1, ' Stephen Henderson': 1, ' Stephen Merchant': 1, ' Stephen Rea': 1, ' Steve Buscemi': 1, ' Steve Carell': 2, ' Steve Coogan': 1, ' Steve Lantz': 1, ' Steve Martin': 1, ' Steve Oram': 1, ' Steve Tom': 1, ' Steve Wiebe': 1, ' Steve Zahn': 2, ' Steven Krueger': 1, ' Steven Mackintosh': 1, ' Steven Pasquale': 1, ' Steven Yeun': 1, ' Storm Acheche Sahlstrøm': 1, ' Storm Reid': 1, ' Su Elliot': 1, ' Sue Dahlman': 1, ' Sunny Pawar': 1, ' Susan Loughnane': 1, ' Susan Sarandon': 2, ' Suzanne Clément': 1, ' Sylvester Stallone': 1, ' Sylvia Hoeks': 1, ' T.I.': 1, ' T.J. Miller': 5, ' T.R. Knight': 1, ' Tabu': 1, ' Taika Waititi': 1, ' Taissa Farmiga': 1, ' Tammy Blanchard': 1, ' Tanay Chheda': 1, ' Tangie Ambrose': 1, ' Tania Raymonde': 1, ' Tao Okamoto': 1, ' Taraji P. Henson': 1, ' Taron Egerton': 2, ' Taylor Kitsch': 2, ' Taylor Lautner': 4, ' Taylor Schilling': 1, ' Taylor Swift': 1, ' Temuera Morrison': 1, ' Teodora Duhovnikova': 1, ' Terence Stamp': 1, ' Teresa Navarro': 1, ' Teresa Palmer': 5, ' Teri Hatcher': 1, ' Terrence Howard': 2, ' Terry Chen': 1, ' Terry Crews': 3, ' Tessa Thompson': 3, ' Thandie Newton': 4, ' Theo James': 6, ' Theo Rossi': 1, ' Thomas Bo Larsen': 1, ' Thomas Brodie-Sangster': 2, ' Thomas Haden Church': 2, ' Thomas Jane': 2, ' Thomas Lennon': 2, ' Thomas M. Wright': 1, ' Thomas Middleditch': 1, ' Tian Jing': 1, ' Tiffany Haddish': 1, ' Tijuana Ricks': 1, ' Til Schweiger': 1, ' Tilda Swinton': 2, ' Tim Allen': 1, ' Tim McGraw': 1, ' Tim Roth': 5, ' Timothy Olyphant': 2, ' Timothy Spall': 1, ' Tina Fey': 2, ' Tobias Menzies': 1, ' Toby Jones': 1, ' Toby Kebbell': 1, ' Tom Costello': 1, ' Tom Cruise': 1, ' Tom Felton': 1, ' Tom Hanks': 1, ' Tom Hardy': 4, ' Tom Hiddleston': 3, ' Tom Holland': 2, ' Tom Hudson': 1, ' Tom Prior': 1, ' Tom Sizemore': 1, ' Tom Wilkinson': 2, ' Tommy Dewey': 1, ' Tommy Lee Jones': 3, ' Toni Collette': 2, ' Tony Danza': 1, ' Tony Goldwyn': 1, ' Tony Revolori': 1, ' Tony Shalhoub': 1, ' Topher Grace': 2, ' Tracy Letts': 2, ' Trey Songz': 1, ' Ty Simpkins': 2, ' Tye Sheridan': 1, ' Tyler Hoechlin': 1, ' Tyler Perry': 1, ' Tyne Daly': 1, ' Tyrese Gibson': 4, ' Ulrich Tukur': 1, ' Usher Raymond': 1, ' Val Kilmer': 1, ' Valerie Mahaffey': 1, ' Vanessa Ferlito': 1, ' Vanessa Hudgens': 1, ' Vanessa Lachey': 1, ' Vera Farmiga': 4, ' Vernetta Lopez': 1, ' Vicky Krieps': 1, ' Victoria Justice': 1, ' Viggo Mortensen': 1, ' Vilen Babichev': 1, ' Vin Diesel': 1, ' Vince Vaughn': 2, ' Vincent Cassel': 4, \" Vincent D'Onofrio\": 2, ' Vincent Ebrahim': 1, ' Vincent Kartheiser': 1, ' Ving Rhames': 1, ' Viola Davis': 6, ' Walton Goggins': 1, ' Wei Tang': 1, ' Wendi McLendon-Covey': 2, ' Wentworth Miller': 2, ' Wenwen Han': 1, ' Werner Herzog': 1, ' Wes Bentley': 2, ' Will Arnett': 3, ' Will Dalton': 1, ' Will Ferrell': 2, ' Will Poulter': 2, ' Will Smith': 1, ' Will Yun Lee': 1, ' Willem Dafoe': 5, ' William Fichtner': 2, ' William Hurt': 2, ' William Moseley': 1, ' Woo-hee Chun': 1, ' Woody Harrelson': 9, ' Wyatt Russell': 1, ' Xavier Samuel': 3, ' Yoo Gong': 1, ' Yu-mi Jung': 1, ' Yun-Fat Chow': 1, ' Yutaka Takenouchi': 1, ' Zac Efron': 3, \" Zac Mattoon O'Brien\": 1, ' Zach Galifianakis': 1, ' Zach Grenier': 1, ' Zachary Bennett': 1, ' Zachary Levi': 1, ' Zachary Quinto': 3, ' Zachery Ty Bryan': 1, ' Zoe Kazan': 1, ' Zoe Saldana': 6, ' Zoey Deutch': 2, ' Zooey Deschanel': 2, ' Zoë Bell': 2, ' Zoë Kravitz': 2, ' Émilie Leclerc': 1, ' Ólafur Darri Ólafsson': 1, ' Óscar Jaenada': 1, 'Aamir Khan': 3, 'Aaron Paul': 3, 'Aaron Poole': 1, 'Aaron Taylor-Johnson': 4, 'Abbie Cornish': 1, 'Abigail Breslin': 2, 'Adam Brody': 1, 'Adam Driver': 1, 'Adam Pally': 1, 'Adam Rodriguez': 1, 'Adam Sandler': 9, 'Adelaide Kane': 1, 'Adewale Akinnuoye-Agbaje': 1, 'Adrian Grenier': 1, 'Adrian Titieni': 1, 'Adrien Brody': 2, 'Ahney Her': 1, 'Aidan Quinn': 1, 'Akiva Schaffer': 1, 'Alden Ehrenreich': 1, 'Alex Karpovsky': 1, 'Alex Pettyfer': 1, 'Alexander Black': 1, 'Alexander Ludwig': 1, 'Alexander Skarsgård': 3, 'Alexandra Daddario': 1, 'Alexandra Maria Lara': 1, 'Alexi Pappas': 1, 'Alfred Molina': 2, 'Alia Bhatt': 1, 'Alia Shawkat': 1, 'Alice Braga': 1, 'Alice Englert': 1, 'Alicia Vikander': 1, 'Alison Brie': 1, 'Alycia Debnam-Carey': 1, 'Amanda Bynes': 1, 'Amanda Peet': 1, 'Amanda Seyfried': 2, 'Amber Perkins': 1, 'Amr Waked': 1, 'Amy Adams': 4, 'Amy Poehler': 2, 'Amy Schumer': 1, 'Ana de Armas': 1, 'Analeigh Tipton': 1, 'Anders Danielsen Lie': 1, 'Anders Holm': 1, 'Andie MacDowell': 1, 'Andre Braugher': 1, 'Andreas Wisniewski': 1, 'Andrew Garfield': 5, 'Andy Powers': 1, 'Andy Samberg': 2, 'Andy Serkis': 1, 'Angela Bassett': 2, 'Angelina Jolie': 5, 'Anika Noni Rose': 1, 'Anna Faris': 2, 'Anna Hutchison': 1, 'Anna Kendrick': 5, 'Annabeth Gish': 1, 'Annalise Basso': 1, 'Anne Dorval': 1, 'Anne Hathaway': 4, 'Annette Bening': 1, 'Anthony Edwards': 1, 'Anthony Hopkins': 2, 'Anthony LaPaglia': 1, 'Anthony Mackie': 1, 'Anton Adasinsky': 1, 'Anton Yelchin': 1, 'Antonio Banderas': 1, 'Anya Taylor-Joy': 1, 'Aomi Muyock': 1, 'Armie Hammer': 1, 'Arnold Schwarzenegger': 1, 'Asa Butterfield': 2, 'Ashley Tisdale': 1, \"Auli'i Cravalho\": 1, 'Bailey Anne Borders': 1, 'Barbara Crampton': 1, 'Ben Affleck': 6, 'Ben Barnes': 1, 'Ben Burtt': 1, 'Ben Kingsley': 2, 'Ben Stiller': 5, 'Ben Whishaw': 2, 'Ben Winchell': 1, 'Benedict Cumberbatch': 2, 'Benicio Del Toro': 1, 'Benjamin Walker': 1, 'Billy Burke': 1, 'Billy Connolly': 1, 'Billy Crudup': 1, 'Billy Crystal': 1, 'Billy Magnussen': 1, 'Blake Jenner': 1, 'Blake Lively': 2, 'Boman Irani': 1, 'Brad Garrett': 1, 'Brad Pitt': 9, 'Bradley Cooper': 4, 'Brandon Routh': 1, 'Brandon T. Jackson': 1, 'Brendan Fraser': 1, 'Brendan Gleeson': 1, 'Brenton Thwaites': 2, 'Brian Cox': 1, 'Brian Dennehy': 1, 'Brian White': 1, 'Brie Larson': 2, 'Brighton Sharbino': 1, 'Brittany Blanton': 1, 'Brittany Snow': 1, 'Bruce Campbell': 1, 'Bruce Willis': 2, 'Bryan Cranston': 2, 'Bryce Dallas Howard': 1, 'Byung-hun Lee': 2, 'Callan McAuliffe': 1, 'Callum Keith Rennie': 1, 'Callum Turner': 1, 'Calum Worthy': 1, 'Cameron Diaz': 2, 'Carice van Houten': 1, 'Carla Quevedo': 1, 'Carmen Electra': 1, 'Casey Affleck': 2, 'Cate Blanchett': 3, 'Catherine Keener': 1, 'Catherine Walker': 1, 'Cedric the Entertainer': 1, 'Chadwick Boseman': 1, 'Channing Tatum': 7, 'Charles Berling': 1, 'Charlie Cox': 1, 'Charlie Day': 1, 'Charlie Hunnam': 1, 'Charlize Theron': 3, 'Charlotte Gainsbourg': 3, 'Chatchawai Kamonsakpitak': 1, 'Cheryl Hines': 1, 'Chiwetel Ejiofor': 3, 'Chloë Grace Moretz': 3, 'Chris Evans': 5, 'Chris Gethard': 1, 'Chris Hemsworth': 6, 'Chris Isaak': 1, 'Chris Pine': 6, 'Chris Pratt': 3, 'Christian Bale': 11, 'Christina Applegate': 1, 'Christopher Evan Welch': 1, 'Christopher Meyer': 1, 'Christopher Mintz-Plasse': 2, 'Christopher Plummer': 2, 'Christopher Walken': 1, 'Christos Stergioglou': 1, 'Cillian Murphy': 1, 'Clint Eastwood': 1, 'Clive Owen': 1, 'Colin Farrell': 4, 'Colin Firth': 4, 'Colton Haynes': 1, 'Connor Paolo': 2, 'Cori Gonzalez-Macuer': 1, 'Craig T. Nelson': 1, 'Craig Van Hook': 1, 'Cynthia Nixon': 1, \"Da'Vone McDonald\": 1, 'Daisy Ridley': 1, 'Dakota Fanning': 2, 'Dakota Johnson': 2, 'Dale Dickey': 1, 'Dan Crisafulli': 1, 'Dan Fogler': 1, 'Dan Stevens': 2, 'Dane DeHaan': 1, 'Daniel Brühl': 1, 'Daniel Craig': 5, 'Daniel Day-Lewis': 2, 'Daniel Fathers': 1, 'Daniel Franzese': 1, 'Daniel Radcliffe': 8, 'Danielle Panabaker': 1, 'Danny McBride': 1, 'Danny Sapani': 1, 'Darsheel Safary': 1, 'Darío Grandinetti': 1, 'Dave Bautista': 1, 'Dave Johns': 1, 'David Acord': 1, 'David Denman': 1, 'David Lyons': 1, 'David Oyelowo': 2, 'Deborah Kara Unger': 1, 'Demián Bichir': 1, 'Dennis Quaid': 2, 'Denzel Washington': 9, 'Derek Jacobi': 1, 'Dev Patel': 4, 'Diane Lane': 1, 'Diego Klattenhoff': 1, 'Diego Luna': 1, 'Dieter Laser': 1, 'Domhnall Gleeson': 1, 'Dominic Monaghan': 1, 'Dominic West': 1, 'Dominique Swain': 1, 'Don Cheadle': 2, 'Donald Sutherland': 1, 'Dustin Hoffman': 1, 'Dwayne Johnson': 5, 'Dylan Duffus': 1, \"Dylan O'Brien\": 3, 'Ed Helms': 1, \"Ed O'Neill\": 1, 'Eddie Murphy': 1, 'Eddie Redmayne': 4, 'Edgar Ramírez': 2, 'Edith Scob': 1, 'Edoardo Leo': 1, 'Edward Asner': 1, 'Edward Norton': 3, 'Elijah Smith': 1, 'Elijah Wood': 1, 'Elisabeth Moss': 1, 'Elisabeth Shue': 1, 'Elizabeth Berrington': 1, 'Elizabeth Reaser': 1, 'Ellar Coltrane': 1, 'Elle Fanning': 3, 'Ellen DeGeneres': 1, 'Ellen Page': 2, 'Ellie Kendrick': 1, 'Eloise Mumford': 1, 'Emile Hirsch': 2, 'Emilia Clarke': 1, 'Emily Baldoni': 1, 'Emily Blunt': 2, 'Emily Browning': 2, 'Emma Booth': 1, 'Emma Greenwell': 1, 'Emma Roberts': 2, 'Emma Stone': 3, 'Emma Thompson': 1, 'Emma Watson': 1, 'Emmanuel Garijo': 1, 'Emmanuelle Riva': 1, 'Emory Cohen': 1, 'Eric Bana': 1, 'Eric Godon': 1, 'Erika Linder': 1, 'Essie Davis': 2, 'Ethan Hawke': 5, 'Eva Green': 1, 'Evan Rachel Wood': 1, 'Eve Lindley': 1, 'Ewan McGregor': 2, 'Ezra Miller': 1, 'Faith Wladyka': 1, 'Famke Janssen': 1, 'Farid Sajjadi Hosseini': 1, 'Felicity Jones': 1, 'Ferdia Walsh-Peelo': 1, 'Fiona Gordon': 1, \"Fionn O'Shea\": 1, 'Florence Pugh': 1, 'Forest Whitaker': 2, 'Fran Kranz': 1, 'Francesc Albiol': 1, 'Frank Grillo': 1, 'Frank Madigan': 1, 'François Cluzet': 1, 'Fred Dalton Thompson': 1, 'Freddie Crowder': 1, 'Freddie Highmore': 1, 'Gabourey Sidibe': 1, 'Gabriel Basso': 1, 'Gabriel Chavarria': 1, 'Gabriella Wilde': 1, 'Garance Marillier': 1, 'Garrett Clayton': 1, 'Gary Oldman': 3, 'Gaspard Schlatter': 1, 'Gemma Arterton': 2, 'Genesis Rodriguez': 1, 'Geoffrey Rush': 3, 'George Clooney': 6, 'Gerard Butler': 5, 'Gerardo Taracena': 1, 'Giancarlo Esposito': 1, 'Ginnifer Goodwin': 1, 'Giuseppe Battiston': 1, 'Golshifteh Farahani': 1, 'Graham Skipper': 1, 'Guillaume Baillargeon': 1, 'Guy Pearce': 1, 'Hailee Steinfeld': 1, 'Harrison Ford': 2, 'Hayden Christensen': 1, 'Hayley Atwell': 1, 'Heather Sossaman': 1, 'Helen Mirren': 2, 'Helena Bonham Carter': 1, 'Henry Cavill': 3, 'Henry Thomas': 1, 'Hermione Corfield': 1, 'Hilary Swank': 2, 'Hiroki Hasegawa': 1, 'Hugh Jackman': 6, 'Hugo Weaving': 1, 'Ian Holm': 1, 'Ian McKellen': 2, 'Ice Cube': 1, 'Idris Elba': 2, 'Isabella Rossellini': 1, 'Isabelle Huppert': 2, 'Isaiah Stone': 1, 'Ivana Baquero': 1, 'Jack Black': 3, 'Jack Huston': 1, \"Jack O'Connell\": 1, 'Jackie Chan': 1, 'Jackie Earle Haley': 1, 'Jacob Latimore': 1, 'Jaden Smith': 1, 'Jae Head': 1, 'Jahking Guillory': 1, 'Jai Courtney': 1, 'Jake Gyllenhaal': 9, 'Jake Johnson': 1, 'Jamal Woolard': 1, 'James Allen McCune': 1, 'James Badge Dale': 1, 'James Cosmo': 1, 'James Franco': 5, 'James Hamrick': 1, 'James Kelley': 1, 'James Marsden': 1, 'James McAvoy': 5, 'Jamie Dornan': 3, 'Jamie Foxx': 1, 'Jane Levy': 1, 'Jared Gilman': 1, 'Jared Harris': 1, 'Jared Leto': 1, 'Jared Padalecki': 1, 'Jason Bateman': 5, 'Jason Biggs': 2, 'Jason Clarke': 3, 'Jason Flemyng': 1, 'Jason Momoa': 1, \"Jason O'Mara\": 1, 'Jason Segel': 1, 'Jason Statham': 2, 'Jason Sudeikis': 3, 'Javier Bardem': 1, 'Jay Baruchel': 4, 'Jean-Claude Van Damme': 1, 'Jeff Bridges': 2, 'Jeffrey Wright': 1, 'Jelena Gavrilovic': 1, 'Jemaine Clement': 3, 'Jemima West': 1, 'Jena Malone': 1, 'Jennifer Aniston': 4, 'Jennifer Garner': 1, 'Jennifer Jason Leigh': 1, 'Jennifer Lawrence': 8, 'Jennifer Lopez': 1, 'Jeremy Irvine': 1, 'Jeremy Renner': 4, 'Jesse Eisenberg': 6, 'Jessica Biel': 1, 'Jessica Brown Findlay': 1, 'Jessica Chastain': 3, 'Jessica Vanessa DeLeon': 1, 'Jim Broadbent': 1, 'Jim Carrey': 1, 'Jim Parsons': 1, 'Jim Sturgess': 2, 'Joaquin Phoenix': 2, 'Jocelin Donahue': 1, 'Joe Alwyn': 1, 'Joe Blakemore': 1, 'Joel Kinnaman': 1, 'John C. Reilly': 1, 'John Cusack': 2, 'John Francis Daley': 1, 'John Gallagher Jr.': 2, 'John Goodman': 1, 'John Krasinski': 1, 'John Travolta': 1, 'Johnny Depp': 8, 'Johnny Simmons': 1, 'Jon Bernthal': 1, 'Jon Favreau': 1, 'Jonah Hill': 2, 'Joseph Gordon-Levitt': 6, 'Joseph Mawle': 1, 'Josh Brolin': 4, 'Josh Hartnett': 1, 'Josh Hutcherson': 1, 'Josh Stewart': 1, 'Joshua Leonard': 1, 'Judah Lewis': 1, 'Judy Greer': 1, 'Julianne Hough': 2, 'Julianne Moore': 2, 'Jun Kunimura': 1, 'Justin Chatwin': 1, 'Justin Long': 1, 'Justin Timberlake': 1, 'Kang-ho Song': 1, 'Karen Allen': 1, 'Karen Disher': 1, 'Karen Gillan': 1, 'Karl Urban': 2, 'Kate Beckinsale': 5, 'Kate Bosworth': 1, 'Kate Hudson': 1, 'Kate Mara': 1, 'Kate Winslet': 2, 'Katherine Heigl': 2, 'Katherine Waterston': 1, 'Kathy Baker': 1, 'Katie Cassidy': 1, 'Katy Barker': 1, 'Keanu Reeves': 4, 'Keegan-Michael Key': 2, 'Keira Knightley': 3, 'Kelly Macdonald': 1, 'Kelsey Grammer': 1, 'Ken Stott': 1, 'Kenneth Branagh': 2, 'Kenny Wormald': 1, 'Kerry Washington': 1, 'Kevin Chamberlin': 1, 'Kevin Costner': 4, 'Kevin Spacey': 1, 'Kim Coates': 1, 'Kimberly Elise': 1, 'Kirsten Dunst': 2, 'Kit Harington': 1, 'Kodi Smit-McPhee': 1, 'Kristen Bell': 2, 'Kristen Connolly': 1, 'Kristen Stewart': 6, 'Kristen Wiig': 1, 'Kurt Russell': 3, 'Lake Bell': 1, 'Lambert Wilson': 1, 'Larenz Tate': 1, 'Laura Dern': 1, 'Lauren Birkell': 1, 'Lauren Cohan': 1, 'Lauren German': 1, 'Lauren Graham': 1, 'Laurence Fishburne': 1, 'Laurent Lucas': 2, 'Lee Pace': 1, 'Lena Endre': 1, 'Leonardo DiCaprio': 9, 'Lesley Manville': 1, 'Levi Miller': 1, 'Lewis MacDougall': 1, 'Liam Hemsworth': 1, 'Liam Neeson': 5, 'Liana Liberato': 1, 'Lili Sepe': 1, 'Lily Collins': 3, 'Lily James': 3, 'Lily-Rose Depp': 1, 'Logan Lerman': 5, 'Logan Marshall-Green': 1, 'Logan Paul': 1, 'Lorenza Izzo': 1, 'Lori Petty': 1, 'Louis C.K.': 1, 'Lubna Azabal': 1, 'Lucas Black': 1, 'Lucas Hedges': 1, 'Lucas Till': 1, 'Luke Evans': 1, 'Luke Treadaway': 1, 'Luke Wilson': 2, 'Lydia Wilson': 1, 'Lyndsy Fonseca': 1, 'Léa Seydoux': 1, 'Maddy Curley': 1, 'Madina Nalwanga': 1, 'Mads Mikkelsen': 1, 'Mae Whitman': 1, 'Maggie Grace': 1, 'Mahershala Ali': 1, 'Maika Monroe': 2, 'Malcolm McDowell': 1, 'Malin Akerman': 2, 'Malina Manovici': 1, 'Mandy Moore': 1, 'Margarita Levieva': 1, 'Maribel Verdú': 1, 'Marilyn Manson': 1, 'Mario Casas': 1, 'Marisa Paredes': 1, 'Mark Chao': 1, 'Mark Huberman': 1, 'Mark Ruffalo': 1, 'Mark Rylance': 1, 'Mark Strong': 1, 'Mark Wahlberg': 11, 'Marley Shelton': 1, 'Martin Freeman': 1, 'Martin Stringer': 1, 'Mary-Louise Parker': 1, 'Matt Damon': 7, 'Matt Lanter': 1, 'Matt Vael': 1, 'Matthew Macfadyen': 1, 'Matthew McConaughey': 9, 'Matthias Schoenaerts': 1, 'Max Martini': 1, 'Max von Sydow': 1, 'Megan Fox': 3, 'Mel Gibson': 1, 'Melanie Lynskey': 1, 'Melissa George': 1, 'Melissa Leo': 2, 'Melissa McCarthy': 3, 'Meryl Streep': 2, 'Method Man': 1, 'Mia Goth': 1, 'Mia Wasikowska': 4, 'Michael B. Jordan': 1, 'Michael Caine': 5, 'Michael Cera': 2, 'Michael Chiklis': 1, 'Michael Dickson': 1, 'Michael Dorman': 1, 'Michael Ealy': 1, 'Michael Fassbender': 7, 'Michael Keaton': 2, 'Michael Mantell': 1, 'Michael Nyqvist': 1, 'Michael Pitt': 1, 'Michael Shannon': 1, 'Michael Stuhlbarg': 2, 'Michael Vartan': 1, 'Michel Vuillermoz': 1, 'Michelle Pfeiffer': 1, 'Michelle Williams': 1, 'Michelle Yeoh': 1, 'Michiel Huisman': 1, 'Mickey Rourke': 1, 'Mike Vogel': 1, 'Mila Kunis': 2, 'Miles Teller': 4, 'Milla Jovovich': 3, 'Min-hee Kim': 1, 'Miyu Irino': 1, 'Moisés Acevedo': 1, 'Momo Dione': 1, 'Morgan Freeman': 1, 'Morgan Saylor': 1, 'Morjana Alaoui': 1, 'Munro Chambers': 1, 'Mélanie Laurent': 1, 'Nadia White': 1, 'Naomi Watts': 6, 'Nat Wolff': 2, 'Natalie Portman': 4, 'Natasha Henstridge': 1, 'Nathalie Baye': 1, 'Nathan Fillion': 1, 'Nazanin Boniadi': 1, 'Neel Sethi': 1, 'Neil Brown Jr.': 1, 'Neve Campbell': 1, 'Nia Vardalos': 1, \"Nicholas D'Agosto\": 1, 'Nicholas Hoult': 3, 'Nick Offerman': 2, 'Nick Robinson': 1, 'Nick Swardson': 1, 'Nicolas Cage': 2, 'Nicole Beharie': 1, 'Nicole Kidman': 3, 'Nicole Parker': 1, 'Noah Ringer': 1, 'Noomi Rapace': 2, \"O'Shea Jackson Jr.\": 1, 'Oliver Platt': 1, 'Olivia Colman': 1, 'Olivia DeJonge': 1, 'Olivia Wilde': 1, 'Omar Sy': 1, 'Oona Laurence': 1, 'Oscar Isaac': 1, 'Owen Wilson': 3, 'Paddy Considine': 1, 'Patrick Huard': 1, 'Patrick Stewart': 3, 'Patrick Wilson': 4, 'Paul Bettany': 1, 'Paul Dano': 1, 'Paul Giamatti': 1, 'Paul Rudd': 2, 'Paul Sidhu': 1, 'Peter Dinklage': 1, 'Peter Stormare': 1, 'Philip Seymour Hoffman': 1, 'Pierce Brosnan': 1, 'Pierre Niney': 1, 'Prabhas': 1, 'Quinton Aaron': 1, 'Quvenzhané Wallis': 1, 'Rachael Harris': 1, 'Rachel Bilson': 1, 'Rachel Korine': 1, 'Rachel Weisz': 2, 'Radha Mitchell': 1, 'Rainn Wilson': 1, 'Ralph Fiennes': 1, 'Ray Romano': 1, 'Ray Winstone': 1, 'Rebecca Hall': 2, 'Reese Witherspoon': 3, 'Reiko Aylesworth': 1, 'Renée Zellweger': 1, 'Rhona Mitra': 1, 'Ricardo Darín': 1, 'Richard Dreyfuss': 1, 'Richard Gere': 2, 'Richard Jenkins': 1, 'Richenda Carey': 1, 'Rihanna': 1, 'Riley Keough': 1, 'Riz Ahmed': 1, 'Robert De Niro': 4, 'Robert Downey Jr.': 8, 'Robert Duvall': 1, 'Robert Hoffman': 1, 'Robert Patrick': 1, 'Robert Pattinson': 1, 'Robert Toupin': 1, 'Robin Wright': 1, 'Rolf Lassgård': 1, 'Romain Duris': 1, 'Ron Perlman': 1, 'Ronnie Gene Blevins': 1, 'Rooney Mara': 3, 'Rory Cochrane': 1, 'Rosamund Pike': 1, 'Rose McGowan': 1, 'Rosie Shaw': 1, 'Rudy Youngblood': 1, 'Russell Crowe': 4, 'Ruth Negga': 1, 'Ruth Wilson': 1, 'Ryan Gosling': 5, 'Ryan Potter': 1, 'Ryan Reynolds': 3, 'Ryoko Seta': 1, 'Ryûnosuke Kamiki': 1, 'Sacha Baron Cohen': 2, 'Sally Field': 1, 'Sally Phillips': 1, 'Salma Hayek': 1, 'Sam Neill': 1, 'Sam Rockwell': 1, 'Sam Worthington': 4, 'Samantha Morton': 1, 'Samantha Robinson': 1, 'Samantha Sloyan': 1, 'Samuel L. Jackson': 2, 'Sandra Bullock': 4, 'Sandra Hüller': 1, 'Sanya Malhotra': 1, 'Saoirse Ronan': 4, 'Sarah Butler': 1, 'Sarah Clarke': 1, 'Sarah Dumont': 1, 'Sarah Hyland': 1, 'Sarah Jessica Parker': 2, 'Sarah Roemer': 1, 'Sasha Lane': 1, 'Satomi Ishihara': 1, 'Scarlett Johansson': 4, 'Scott Adkins': 1, 'Scott Eastwood': 1, 'Scott Lawrence': 1, 'Scott Speedman': 1, 'Sean Faris': 1, 'Sean Penn': 2, 'Seann William Scott': 1, 'Sebastian Koch': 1, 'Seth MacFarlane': 1, 'Seth Rogen': 6, 'Shailene Woodley': 4, 'Shameik Moore': 1, 'Shannon Woodward': 1, 'Shareeka Epps': 1, 'Sharlto Copley': 5, 'Sheri Moon Zombie': 1, 'Shia LaBeouf': 6, 'Shone Romulus': 1, 'Sigourney Weaver': 2, 'Simon Pegg': 4, 'Simona Stasová': 1, \"Sofia Black-D'Elia\": 1, 'Sonoya Mizuno': 1, 'Sophie Nélisse': 1, 'Sophie Okonedo': 1, \"Srdjan 'Zika' Todorovic\": 1, 'Stanley Tucci': 1, 'Stellan Skarsgård': 3, 'Stephen Lang': 2, 'Stephen Moyer': 1, 'Steve Carell': 5, 'Steve Zahn': 2, 'Stuart Graham': 1, 'Sullivan Stapleton': 1, 'Suraj Sharma': 1, 'Susie Porter': 1, 'Sylvester Stallone': 6, 'T.J. Miller': 1, 'Tadanobu Asano': 1, 'Tamannaah Bhatia': 1, 'Taraji P. Henson': 1, 'Taraneh Alidoosti': 1, 'Taron Egerton': 1, 'Tatiana Pauhofová': 1, 'Taylor Kitsch': 1, 'Ted Levine': 1, 'Teresa Palmer': 2, 'Teyonah Parris': 1, 'Thomas Haden Church': 1, 'Thomas Jane': 1, 'Thomas Loibl': 1, 'Thomas Mann': 2, 'Tilda Swinton': 2, 'Tim Blake Nelson': 1, 'Tim Pigott-Smith': 1, 'Timothy Spall': 1, 'Tina Fey': 1, 'Tobey Maguire': 2, 'Toby Kebbell': 1, 'Tom Cruise': 7, 'Tom Cullen': 1, 'Tom Hanks': 8, 'Tom Hardy': 8, 'Tom Hiddleston': 1, 'Tom Hughes': 1, 'Tom Mison': 1, 'Tom Wilkinson': 2, 'Tommy Lee Jones': 1, 'Tony Amendola': 1, 'Tony Revolori': 1, 'Tony Shalhoub': 1, 'Topher Grace': 1, 'Travis Fimmel': 1, 'Travis Tope': 1, 'Trenton Rogers': 1, 'Tye Sheridan': 2, 'Tyler James Williams': 1, 'Tyler Perry': 1, 'Ulrich Mühe': 1, 'Vanessa Hudgens': 1, 'Vanessa Ross': 1, 'Vera Farmiga': 2, 'Viggo Mortensen': 2, 'Vin Diesel': 6, 'Vince Vaughn': 2, 'Vincent Cassel': 1, \"Vincent D'Onofrio\": 1, 'Ving Rhames': 1, 'Vinnie Jones': 2, 'Viola Davis': 1, 'Ward Horton': 1, 'Wendy Crewson': 1, 'Wesley Elder': 1, 'Will Ferrell': 6, 'Will Smith': 9, 'Willem Dafoe': 1, 'William Atherton': 1, 'William Fichtner': 1, 'Winona Ryder': 1, 'Woody Allen': 1, 'Xavier Samuel': 1, 'Yoo Gong': 1, 'Zac Efron': 5, 'Zach Galifianakis': 3, 'Zachary Gordon': 3, 'Zachary Quinto': 1, 'Zoey Deutch': 4, 'Zooey Deschanel': 2}\n"
          ]
        }
      ],
      "metadata": {
        "id": "GfB9w9UO51ur",
        "colab": {
          "base_uri": "https://localhost:8080/"
        },
        "outputId": "32333905-d4af-45d3-f625-42d6e6b5f707"
      }
    },
    {
      "cell_type": "markdown",
      "source": [
        "## Score Histogram\n",
        ">Draw the histogram of metascores and ratings. "
      ],
      "metadata": {
        "id": "U8qu6f7d51ur"
      }
    },
    {
      "cell_type": "code",
      "execution_count": 65,
      "source": [
        "### START CODE HERE ###\n",
        "plt.figure(figsize = (15, 7))\n",
        "plt.subplot(1, 2, 1)\n",
        "plt.xlabel('Metascore')\n",
        "plt.hist(df['Metascore'], 100);\n",
        "plt.subplot(1, 2, 2)\n",
        "plt.xlabel('Rating')\n",
        "plt.hist(df['Rating'], 100);\n",
        "### END CODE HERE ###"
      ],
      "outputs": [
        {
          "output_type": "display_data",
          "data": {
            "text/plain": [
              "<Figure size 1080x504 with 2 Axes>"
            ],
            "image/png": "[encoded data removed]"
          },
          "metadata": {
            "needs_background": "light"
          }
        }
      ],
      "metadata": {
        "id": "JUf-Jl6T51ur",
        "colab": {
          "base_uri": "https://localhost:8080/",
          "height": 442
        },
        "outputId": "f8a9526c-df84-47b7-d5b8-77d702289b61"
      }
    },
    {
      "cell_type": "markdown",
      "source": [
        "## Correlations\n",
        ">Calculate the correlation between rating, votes and metascore of the movies.\n",
        "Is there any meaningful relation between these features? "
      ],
      "metadata": {
        "id": "_fD8olon51ur"
      }
    },
    {
      "cell_type": "code",
      "execution_count": 101,
      "source": [
        "### START CODE HERE ###\n",
        "x = df['Metascore']\n",
        "x1 = (x - x.mean()) / x.std()\n",
        "y = df['Rating']\n",
        "y1 = (y - y.mean()) / y.std()\n",
        "z = np.multiply(x1, y1)\n",
        "r = z.mean()\n",
        "print(\"rho = \", r)\n",
        "plt.xlabel('Metascore')\n",
        "plt.ylabel('Rating')\n",
        "plt.scatter(x,y)\n",
        "plt.show()\n",
        "### END CODE HERE ###"
      ],
      "outputs": [
        {
          "output_type": "stream",
          "name": "stdout",
          "text": [
            "rho =  0.6244087555106026\n"
          ]
        },
        {
          "output_type": "display_data",
          "data": {
            "text/plain": [
              "<Figure size 432x288 with 1 Axes>"
            ],
            "image/png": "[encoded data removed]"
          },
          "metadata": {
            "needs_background": "light"
          }
        }
      ],
      "metadata": {
        "id": "4Llb2din51ur",
        "colab": {
          "base_uri": "https://localhost:8080/",
          "height": 297
        },
        "outputId": "7bede591-a320-435b-fb6f-0f614de29540"
      }
    },
    {
      "cell_type": "markdown",
      "source": [
        "بله این طور که به نظر می‌آید، رابطه‌ای میان آن‌ها وجود دارد چون کوریلیشن بالایی با یکدیگر دارند"
      ],
      "metadata": {
        "id": "r2sB5xd99p3l"
      }
    },
    {
      "cell_type": "markdown",
      "source": [
        "# Question 3"
      ],
      "metadata": {
        "id": "kLHzx8KW51ur"
      }
    },
    {
      "cell_type": "markdown",
      "source": [
        "## File\n",
        "> Craet a .txt file and name it \"Name_actors\". You must write the name of all actors/actresses in the IMDB-Movie-Data.csv file. Don't write a name multiple time and write each name in a new line."
      ],
      "metadata": {
        "id": "xQMEJJVI51ur"
      }
    },
    {
      "cell_type": "code",
      "execution_count": 112,
      "source": [
        "### START CODE HERE ###\n",
        "result = set(d.keys())\n",
        "with open('Name_actors.txt',mode = 'w') as f:\n",
        "  for e in result:\n",
        "    f.write(str(e) + '\\n')\n",
        "### END CODE HERE ###"
      ],
      "outputs": [],
      "metadata": {
        "id": "li8flG_251us"
      }
    },
    {
      "cell_type": "markdown",
      "source": [
        "# Question 4"
      ],
      "metadata": {
        "id": "oXpoTAa-51us"
      }
    },
    {
      "cell_type": "markdown",
      "source": [
        "## Plot\n",
        ">You must plot the number of movies in each year according to the IMDB-Movie-Data.csv file. X-axis is year and y-axis show the number of movies in each year.\n",
        "> set the x_label, y_label and title for your plot."
      ],
      "metadata": {
        "id": "-l8ephAz51us"
      }
    },
    {
      "cell_type": "code",
      "execution_count": 156,
      "source": [
        "### START CODE HERE ###\n",
        "x = df['Year']\n",
        "plt.xlabel('Year')\n",
        "plt.ylabel('number of movies')\n",
        "plt.title('number of movies per year')\n",
        "plt.hist(x, 11);\n",
        "### END CODE HERE ###"
      ],
      "outputs": [
        {
          "output_type": "display_data",
          "data": {
            "text/plain": [
              "<Figure size 432x288 with 1 Axes>"
            ],
            "image/png": "[encoded data removed]"
          },
          "metadata": {
            "needs_background": "light"
          }
        }
      ],
      "metadata": {
        "id": "pVgfjlk_51us",
        "colab": {
          "base_uri": "https://localhost:8080/",
          "height": 295
        },
        "outputId": "34742f55-edd0-4cfd-9e9b-8fdeeeae8bf2"
      }
    },
    {
      "cell_type": "markdown",
      "source": [
        "## Plot\n",
        ">You must plot the cos(x) curve. plot 20 cycle of the curve. the frequency of first half of curve is 50 Hz and frequency of second lalf is 200 Hz. \n",
        "> set the x_label, y_label and title for your plot."
      ],
      "metadata": {
        "id": "-xaIS92c51us"
      }
    },
    {
      "cell_type": "code",
      "execution_count": 191,
      "source": [
        "### START CODE HERE ###\n",
        "x = np.linspace(0, 40, 160)\n",
        "y = np.cos(x)\n",
        "plt.plot(x,y);\n",
        "### END CODE HERE ###"
      ],
      "outputs": [
        {
          "output_type": "display_data",
          "data": {
            "text/plain": [
              "<Figure size 432x288 with 1 Axes>"
            ],
            "image/png": "[encoded data removed]"
          },
          "metadata": {
            "needs_background": "light"
          }
        }
      ],
      "metadata": {
        "id": "5VhGTsTw51us",
        "colab": {
          "base_uri": "https://localhost:8080/",
          "height": 265
        },
        "outputId": "d381419d-ed88-44d2-e44c-0b40e60938f4"
      }
    }
  ],
  "metadata": {
    "orig_nbformat": 4,
    "language_info": {
      "name": "python",
      "version": "3.8.5",
      "mimetype": "text/x-python",
      "codemirror_mode": {
        "name": "ipython",
        "version": 3
      },
      "pygments_lexer": "ipython3",
      "nbconvert_exporter": "python",
      "file_extension": ".py"
    },
    "kernelspec": {
      "name": "python3",
      "display_name": "Python 3.8.5 64-bit"
    },
    "interpreter": {
      "hash": "d8283cc4fef7fdfd79fce9ff4c59fb46bb636ce565bf5e011ed8cd98646ea4d5"
    },
    "colab": {
      "provenance": [],
      "include_colab_link": true
    }
  },
  "nbformat": 4,
  "nbformat_minor": 0
}
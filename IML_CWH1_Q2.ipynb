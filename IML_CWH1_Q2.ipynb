{
  "cells": [
    {
      "cell_type": "markdown",
      "metadata": {
        "id": "view-in-github",
        "colab_type": "text"
      },
      "source": [
        "<a href=\"https://colab.research.google.com/github/shahryar-karimi/python_start/blob/main/IML_CWH1_Q2.ipynb\" target=\"_parent\"><img src=\"https://colab.research.google.com/assets/colab-badge.svg\" alt=\"Open In Colab\"/></a>"
      ]
    },
    {
      "cell_type": "markdown",
      "source": [
        "<h1 align=\"center\">An Introduction to Machine Learning - 25737</h1>\n",
        "<h4 align=\"center\">Dr. Sajjad Amini</h4>\n",
        "<h4 align=\"center\">Sharif University of Technology, Spring 2023</h4>\n",
        "\n",
        "# Problem Set 02\n",
        "\n",
        "Welcome to your second assignment. This exercise gives you a brief introduction to Python. \n"
      ],
      "metadata": {
        "id": "9CFNN5Ms51un"
      }
    },
    {
      "cell_type": "markdown",
      "source": [
        "STUDENT NAME: shahryar karimi\n",
        "\n",
        "STUDENT ID: 98100237"
      ],
      "metadata": {
        "id": "otVWavun6BLM"
      }
    },
    {
      "cell_type": "markdown",
      "source": [
        "## Import \n",
        ">Put all of your imports for this file in the below cell."
      ],
      "metadata": {
        "id": "ZmfUgXgE51uo"
      }
    },
    {
      "cell_type": "code",
      "execution_count": 30,
      "source": [
        "### START CODE HERE ###\n",
        "import numpy as np\n",
        "import pandas as pd\n",
        "### END CODE HERE ###"
      ],
      "outputs": [],
      "metadata": {
        "id": "PKyVIvPF51uo"
      }
    },
    {
      "cell_type": "markdown",
      "source": [
        "# Question 1"
      ],
      "metadata": {
        "id": "TK-ZIy9Z51up"
      }
    },
    {
      "cell_type": "markdown",
      "source": [
        "## Array creation\n",
        ">Create the followings to numpy array:\n",
        "* A: a 3\\*3 array like this:\n",
        "$$\n",
        "A = \\left(\\begin{array}{cc} \n",
        "10 & 20 & 30\\\\\n",
        "5 & 10 & 15\\\\\n",
        "1 & 5 & 8\n",
        "\\end{array}\\right)\n",
        "$$ \n",
        "* B: a 3\\*3\\*4 that filled with the numbers start from 15 and have steps of 5 to the end. The array should be filled first along the first dimension then the second dimension and at last the third dimension. like this:\n",
        "$$\n",
        "B[:, :, 0] = \\left(\\begin{array}{cc} \n",
        "15 & 30 & 45\\\\\n",
        "20 & 35 & 50\\\\\n",
        "25 & 40 & 55\n",
        "\\end{array}\\right)\n",
        "$$ "
      ],
      "metadata": {
        "id": "xATpgtcD51up"
      }
    },
    {
      "cell_type": "code",
      "execution_count": 23,
      "source": [
        "### START CODE HERE ###\n",
        "a = [[10, 20, 30], [5, 10, 15], [1, 5, 8]]\n",
        "A = np.array(a)\n",
        "print(A)\n",
        "print()\n",
        "B = np.arange(1, 3 * 3 * 4 + 1) * 5 + 10\n",
        "B = B.reshape((3, 3, 4), order = 'F')\n",
        "print(B[:, :, 0])\n",
        "### END CODE HERE ###"
      ],
      "outputs": [
        {
          "output_type": "stream",
          "name": "stdout",
          "text": [
            "[[10 20 30]\n",
            " [ 5 10 15]\n",
            " [ 1  5  8]]\n",
            "\n",
            "[[15 30 45]\n",
            " [20 35 50]\n",
            " [25 40 55]]\n"
          ]
        }
      ],
      "metadata": {
        "id": "TjIs628Y51up",
        "colab": {
          "base_uri": "https://localhost:8080/"
        },
        "outputId": "cf9946b3-d8e4-410c-ef4a-83fa116710b9"
      }
    },
    {
      "cell_type": "markdown",
      "source": [
        "## Replacement\n",
        ">Replace the last slice of array B (B[:, :, 3]) with values of A. Then print the result."
      ],
      "metadata": {
        "id": "FnkUQTNY51up"
      }
    },
    {
      "cell_type": "code",
      "execution_count": 24,
      "source": [
        "### START CODE HERE ###\n",
        "B[:,:,3] = A.copy()\n",
        "print(B[:, :, 0])\n",
        "print(B[:, :, 1])\n",
        "print(B[:, :, 2])\n",
        "print(B[:, :, 3])\n",
        "### END CODE HERE ###"
      ],
      "outputs": [
        {
          "output_type": "stream",
          "name": "stdout",
          "text": [
            "[[15 30 45]\n",
            " [20 35 50]\n",
            " [25 40 55]]\n",
            "[[ 60  75  90]\n",
            " [ 65  80  95]\n",
            " [ 70  85 100]]\n",
            "[[105 120 135]\n",
            " [110 125 140]\n",
            " [115 130 145]]\n",
            "[[10 20 30]\n",
            " [ 5 10 15]\n",
            " [ 1  5  8]]\n"
          ]
        }
      ],
      "metadata": {
        "id": "P8VC57_o51uq",
        "colab": {
          "base_uri": "https://localhost:8080/"
        },
        "outputId": "dcc116e1-92a1-4a0e-dce3-911479960ec8"
      }
    },
    {
      "cell_type": "markdown",
      "source": [
        "## Axis Swap \n",
        ">Swap the first(B[:, :, 0]) and last(B[:, :, 3]) slice of the array B **only with one line of code**. Then print the result."
      ],
      "metadata": {
        "id": "nZs4P5AZ51uq"
      }
    },
    {
      "cell_type": "code",
      "execution_count": 25,
      "source": [
        "### START CODE HERE ###\n",
        "c = B[:, :, 0].copy()\n",
        "B[:, :, 0] = B[:, :, 3].copy()\n",
        "B[:, :, 3] = c\n",
        "print(B[:, :, 0])\n",
        "print(B[:, :, 1])\n",
        "print(B[:, :, 2])\n",
        "print(B[:, :, 3])\n",
        "### END CODE HERE ###"
      ],
      "outputs": [
        {
          "output_type": "stream",
          "name": "stdout",
          "text": [
            "[[10 20 30]\n",
            " [ 5 10 15]\n",
            " [ 1  5  8]]\n",
            "[[ 60  75  90]\n",
            " [ 65  80  95]\n",
            " [ 70  85 100]]\n",
            "[[105 120 135]\n",
            " [110 125 140]\n",
            " [115 130 145]]\n",
            "[[15 30 45]\n",
            " [20 35 50]\n",
            " [25 40 55]]\n"
          ]
        }
      ],
      "metadata": {
        "id": "WmS33bBl51uq",
        "colab": {
          "base_uri": "https://localhost:8080/"
        },
        "outputId": "376c855b-1e16-4f73-e994-56c76f48fa34"
      }
    },
    {
      "cell_type": "markdown",
      "source": [
        "## Transposing \n",
        ">Transpose the array B elements in each slice. Then print the result."
      ],
      "metadata": {
        "id": "220LTscL51uq"
      }
    },
    {
      "cell_type": "code",
      "execution_count": 26,
      "source": [
        "### START CODE HERE ###\n",
        "B[:, :, 0] = np.transpose(B[:, :, 0])\n",
        "B[:, :, 1] = np.transpose(B[:, :, 1])\n",
        "B[:, :, 2] = np.transpose(B[:, :, 2])\n",
        "B[:, :, 3] = np.transpose(B[:, :, 3])\n",
        "print(B[:, :, 0])\n",
        "print(B[:, :, 1])\n",
        "print(B[:, :, 2])\n",
        "print(B[:, :, 3])\n",
        "### END CODE HERE ###"
      ],
      "outputs": [
        {
          "output_type": "stream",
          "name": "stdout",
          "text": [
            "[[10  5  1]\n",
            " [20 10  5]\n",
            " [30 15  8]]\n",
            "[[ 60  65  70]\n",
            " [ 75  80  85]\n",
            " [ 90  95 100]]\n",
            "[[105 110 115]\n",
            " [120 125 130]\n",
            " [135 140 145]]\n",
            "[[15 20 25]\n",
            " [30 35 40]\n",
            " [45 50 55]]\n"
          ]
        }
      ],
      "metadata": {
        "id": "aNMAlnaC51uq",
        "colab": {
          "base_uri": "https://localhost:8080/"
        },
        "outputId": "51767298-e020-4e83-c533-71031d02d59b"
      }
    },
    {
      "cell_type": "markdown",
      "source": [
        "## Matrix Multiplication\n",
        ">Calculate the matrix multiplication of all slices of the array B. \n",
        "(B[:, :, 0] \\* B[:, :, 1] \\* B[:, :, 2] \\* B[:, :, 3]). Then print the result.\n",
        "\n",
        ">**Note**: the result should be a 3\\*3 array. "
      ],
      "metadata": {
        "id": "xYFuQ6_H51uq"
      }
    },
    {
      "cell_type": "code",
      "execution_count": 27,
      "source": [
        "### START CODE HERE ###\n",
        "print(np.matmul(np.matmul(np.matmul(B[:, :, 0], B[:, :, 1]), B[:, :, 2]), B[:, :, 3]))\n",
        "### END CODE HERE ###"
      ],
      "outputs": [
        {
          "output_type": "stream",
          "name": "stdout",
          "text": [
            "[[ 39375000  45851625  52328250]\n",
            " [ 88537500 103100625 117663750]\n",
            " [134437500 156550500 178663500]]\n"
          ]
        }
      ],
      "metadata": {
        "id": "HfQRENtP51uq",
        "colab": {
          "base_uri": "https://localhost:8080/"
        },
        "outputId": "13be10c8-55d7-47b1-8f09-f07ce15b2439"
      }
    },
    {
      "cell_type": "markdown",
      "source": [
        "## Determinant\n",
        ">Calculate the determinant of the array A and print it."
      ],
      "metadata": {
        "id": "T-aKILXl51uq"
      }
    },
    {
      "cell_type": "code",
      "execution_count": 29,
      "source": [
        "### START CODE HERE ###\n",
        "print(np.linalg.det(A))\n",
        "### END CODE HERE ###"
      ],
      "outputs": [
        {
          "output_type": "stream",
          "name": "stdout",
          "text": [
            "0.0\n"
          ]
        }
      ],
      "metadata": {
        "id": "IuIyFxIb51ur",
        "colab": {
          "base_uri": "https://localhost:8080/"
        },
        "outputId": "e2fe5fde-da24-4638-b21e-0b3b0e60b15d"
      }
    },
    {
      "cell_type": "markdown",
      "source": [
        "# Question 2"
      ],
      "metadata": {
        "id": "dUxqZ--i51ur"
      }
    },
    {
      "cell_type": "markdown",
      "source": [
        "## Loading dataset\n",
        ">Load the IMDB-Movie-Data.csv file into a pandas dataframe and show its first 5 rows. Each row of this dataframe corresponds to one film."
      ],
      "metadata": {
        "id": "tVorf1Zj51ur"
      }
    },
    {
      "cell_type": "code",
      "execution_count": null,
      "source": [
        "### START CODE HERE ###\n",
        "\n",
        "### END CODE HERE ###"
      ],
      "outputs": [],
      "metadata": {
        "id": "dIsa36yi51ur"
      }
    },
    {
      "cell_type": "markdown",
      "source": [
        "## Actors/Actresses Activity\n",
        ">For each Actors/Actresses caculate the number of movies in the dataframe, then sort the actors/actresses first by their number of movies in descending order and then by their name in ascending order. "
      ],
      "metadata": {
        "id": "pgDvllsV51ur"
      }
    },
    {
      "cell_type": "code",
      "execution_count": null,
      "source": [
        "### START CODE HERE ###\n",
        "\n",
        "### END CODE HERE ###"
      ],
      "outputs": [],
      "metadata": {
        "id": "GfB9w9UO51ur"
      }
    },
    {
      "cell_type": "markdown",
      "source": [
        "## Score Histogram\n",
        ">Draw the histogram of metascores and ratings. "
      ],
      "metadata": {
        "id": "U8qu6f7d51ur"
      }
    },
    {
      "cell_type": "code",
      "execution_count": null,
      "source": [
        "### START CODE HERE ###\n",
        "\n",
        "### END CODE HERE ###"
      ],
      "outputs": [],
      "metadata": {
        "id": "JUf-Jl6T51ur"
      }
    },
    {
      "cell_type": "markdown",
      "source": [
        "## Correlations\n",
        ">Calculate the correlation between rating, votes and metascore of the movies.\n",
        "Is there any meaningful relation between these features? "
      ],
      "metadata": {
        "id": "_fD8olon51ur"
      }
    },
    {
      "cell_type": "code",
      "execution_count": null,
      "source": [
        "### START CODE HERE ###\n",
        "\n",
        "### END CODE HERE ###"
      ],
      "outputs": [],
      "metadata": {
        "id": "4Llb2din51ur"
      }
    },
    {
      "cell_type": "markdown",
      "source": [
        "# Question 3"
      ],
      "metadata": {
        "id": "kLHzx8KW51ur"
      }
    },
    {
      "cell_type": "markdown",
      "source": [
        "## File\n",
        "> Craet a .txt file and name it \"Name_actors\". You must write the name of all actors/actresses in the IMDB-Movie-Data.csv file. Don't write a name multiple time and write each name in a new line."
      ],
      "metadata": {
        "id": "xQMEJJVI51ur"
      }
    },
    {
      "cell_type": "code",
      "execution_count": null,
      "source": [
        "### START CODE HERE ###\n",
        "\n",
        "### END CODE HERE ###"
      ],
      "outputs": [],
      "metadata": {
        "id": "li8flG_251us"
      }
    },
    {
      "cell_type": "markdown",
      "source": [
        "# Question 4"
      ],
      "metadata": {
        "id": "oXpoTAa-51us"
      }
    },
    {
      "cell_type": "markdown",
      "source": [
        "## Plot\n",
        ">You must plot the number of movies in each year according to the IMDB-Movie-Data.csv file. X-axis is year and y-axis show the number of movies in each year.\n",
        "> set the x_label, y_label and title for your plot."
      ],
      "metadata": {
        "id": "-l8ephAz51us"
      }
    },
    {
      "cell_type": "code",
      "execution_count": null,
      "source": [
        "### START CODE HERE ###\n",
        "\n",
        "### END CODE HERE ###"
      ],
      "outputs": [],
      "metadata": {
        "id": "pVgfjlk_51us"
      }
    },
    {
      "cell_type": "markdown",
      "source": [
        "## Plot\n",
        ">You must plot the cos(x) curve. plot 20 cycle of the curve. the frequency of first half of curve is 50 Hz and frequency of second lalf is 200 Hz. \n",
        "> set the x_label, y_label and title for your plot."
      ],
      "metadata": {
        "id": "-xaIS92c51us"
      }
    },
    {
      "cell_type": "code",
      "execution_count": null,
      "source": [
        "### START CODE HERE ###\n",
        "\n",
        "### END CODE HERE ###"
      ],
      "outputs": [],
      "metadata": {
        "id": "5VhGTsTw51us"
      }
    }
  ],
  "metadata": {
    "orig_nbformat": 4,
    "language_info": {
      "name": "python",
      "version": "3.8.5",
      "mimetype": "text/x-python",
      "codemirror_mode": {
        "name": "ipython",
        "version": 3
      },
      "pygments_lexer": "ipython3",
      "nbconvert_exporter": "python",
      "file_extension": ".py"
    },
    "kernelspec": {
      "name": "python3",
      "display_name": "Python 3.8.5 64-bit"
    },
    "interpreter": {
      "hash": "d8283cc4fef7fdfd79fce9ff4c59fb46bb636ce565bf5e011ed8cd98646ea4d5"
    },
    "colab": {
      "provenance": [],
      "include_colab_link": true
    }
  },
  "nbformat": 4,
  "nbformat_minor": 0
}